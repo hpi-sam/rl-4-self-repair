{
 "cells": [
  {
   "cell_type": "code",
   "execution_count": 1,
   "metadata": {},
   "outputs": [
    {
     "output_type": "stream",
     "name": "stdout",
     "text": [
      "f:\\Studium\\ProbModels\\rl-4-self-repair\n"
     ]
    }
   ],
   "source": [
    "cd .."
   ]
  },
  {
   "cell_type": "code",
   "execution_count": 2,
   "metadata": {
    "pycharm": {
     "is_executing": false
    }
   },
   "outputs": [],
   "source": [
    "import time\n",
    "import sys\n",
    "if \"../\" not in sys.path:\n",
    "  sys.path.append(\"../\") \n",
    "from envs.broken_components import BrokenComponentsEnv\n",
    "from envs.data_handler import DataHandler\n",
    "from IPython.display import clear_output\n",
    "from data.transition_matrix.hmm_trace import HMMTrace"
   ]
  },
  {
   "cell_type": "code",
   "execution_count": 3,
   "metadata": {
    "tags": []
   },
   "outputs": [],
   "source": [
    "trace = HMMTrace()\n",
    "trace.write_transition_matrix('data/transition_matrix/transition_matrix_approx.csv')"
   ]
  },
  {
   "cell_type": "code",
   "execution_count": 3,
   "metadata": {
    "tags": []
   },
   "outputs": [
    {
     "output_type": "execute_result",
     "data": {
      "text/plain": [
       "[('_SFSVDecdEeet0YmmfbMwkw', 'CF3'),\n",
       " ('_SEvisucdEeet0YmmfbMwkw', 'CF3'),\n",
       " ('_SFLAj-cdEeet0YmmfbMwkw', 'CF1'),\n",
       " ('_SFLAXecdEeet0YmmfbMwkw', 'CF1'),\n",
       " ('_SEwJt-cdEeet0YmmfbMwkw', 'CF1')]"
      ]
     },
     "metadata": {},
     "execution_count": 3
    }
   ],
   "source": [
    "dh = DataHandler(transition_matrix_path='data/transition_matrix/transition_matrix_approx.csv')\n",
    "broken_components = dh.get_sample_component_failure_pairs(5)\n",
    "broken_components"
   ]
  },
  {
   "cell_type": "markdown",
   "metadata": {},
   "source": [
    "## Environment"
   ]
  },
  {
   "cell_type": "code",
   "execution_count": 7,
   "metadata": {},
   "outputs": [],
   "source": [
    "# possible reward_modus 'raw', 'sqt', 'log10', 'cube'\n",
    "env = BrokenComponentsEnv(broken_components, reward_modus='raw', reward_decrease=True, reward_decrease_factor=0.99, state_as_vec=True, hidden_states=True, transition_matrix_path='data/transition_matrix/transition_matrix_approx.csv')\n",
    "# env = BrokenComponentsEnv(broken_components, reward_modus='raw', reward_decrease=True, reward_decrease_factor=0.99, state_as_vec=False)"
   ]
  },
  {
   "cell_type": "markdown",
   "metadata": {},
   "source": [
    "### Env properties"
   ]
  },
  {
   "cell_type": "code",
   "execution_count": 6,
   "metadata": {},
   "outputs": [
    {
     "output_type": "execute_result",
     "data": {
      "text/plain": [
       "5"
      ]
     },
     "metadata": {},
     "execution_count": 6
    }
   ],
   "source": [
    "n_actions = env.action_space.n\n",
    "n_actions"
   ]
  },
  {
   "cell_type": "code",
   "execution_count": 5,
   "metadata": {},
   "outputs": [
    {
     "output_type": "execute_result",
     "data": {
      "text/plain": [
       "{'_SFKaeecdEeet0YmmfbMwkw': 'operational',\n",
       " '_SFLBxecdEeet0YmmfbMwkw': 'degraded',\n",
       " '_SEuUbecdEeet0YmmfbMwkw': 'operational',\n",
       " '_SFOFUOcdEeet0YmmfbMwkw': 'operational',\n",
       " '_SEx-rucdEeet0YmmfbMwkw': 'operational'}"
      ]
     },
     "metadata": {},
     "execution_count": 5
    }
   ],
   "source": [
    "env.hidden_space_dict"
   ]
  },
  {
   "cell_type": "code",
   "execution_count": 7,
   "metadata": {},
   "outputs": [
    {
     "output_type": "execute_result",
     "data": {
      "text/plain": [
       "32"
      ]
     },
     "metadata": {},
     "execution_count": 7
    }
   ],
   "source": [
    "n_states = env.observation_space.n\n",
    "n_states"
   ]
  },
  {
   "cell_type": "code",
   "execution_count": 8,
   "metadata": {},
   "outputs": [
    {
     "output_type": "execute_result",
     "data": {
      "text/plain": [
       "array([('_SFJyC-cdEeet0YmmfbMwkw', 'CF3'),\n",
       "       ('_SFHWA-cdEeet0YmmfbMwkw', 'CF2'),\n",
       "       ('_SE-z0OcdEeet0YmmfbMwkw', 'CF3'),\n",
       "       ('_SFOFSucdEeet0YmmfbMwkw', 'CF3'),\n",
       "       ('_SE-zOOcdEeet0YmmfbMwkw', 'CF1')], dtype=object)"
      ]
     },
     "metadata": {},
     "execution_count": 8
    }
   ],
   "source": [
    "env.action_space_names"
   ]
  },
  {
   "cell_type": "code",
   "execution_count": 9,
   "metadata": {},
   "outputs": [
    {
     "output_type": "execute_result",
     "data": {
      "text/plain": [
       "[array([('_SFJyC-cdEeet0YmmfbMwkw', 'CF3'),\n",
       "        ('_SFHWA-cdEeet0YmmfbMwkw', 'CF2'),\n",
       "        ('_SE-z0OcdEeet0YmmfbMwkw', 'CF3'),\n",
       "        ('_SFOFSucdEeet0YmmfbMwkw', 'CF3'),\n",
       "        ('_SE-zOOcdEeet0YmmfbMwkw', 'CF1')], dtype=object),\n",
       " array([('_SFJyC-cdEeet0YmmfbMwkw', 'CF3'),\n",
       "        ('_SFHWA-cdEeet0YmmfbMwkw', 'CF2'),\n",
       "        ('_SE-z0OcdEeet0YmmfbMwkw', 'CF3'),\n",
       "        ('_SFOFSucdEeet0YmmfbMwkw', 'CF3')], dtype=object),\n",
       " array([('_SFJyC-cdEeet0YmmfbMwkw', 'CF3'),\n",
       "        ('_SFHWA-cdEeet0YmmfbMwkw', 'CF2'),\n",
       "        ('_SE-z0OcdEeet0YmmfbMwkw', 'CF3'),\n",
       "        ('_SE-zOOcdEeet0YmmfbMwkw', 'CF1')], dtype=object),\n",
       " array([('_SFJyC-cdEeet0YmmfbMwkw', 'CF3'),\n",
       "        ('_SFHWA-cdEeet0YmmfbMwkw', 'CF2'),\n",
       "        ('_SE-z0OcdEeet0YmmfbMwkw', 'CF3')], dtype=object),\n",
       " array([('_SFJyC-cdEeet0YmmfbMwkw', 'CF3'),\n",
       "        ('_SFHWA-cdEeet0YmmfbMwkw', 'CF2'),\n",
       "        ('_SFOFSucdEeet0YmmfbMwkw', 'CF3'),\n",
       "        ('_SE-zOOcdEeet0YmmfbMwkw', 'CF1')], dtype=object),\n",
       " array([('_SFJyC-cdEeet0YmmfbMwkw', 'CF3'),\n",
       "        ('_SFHWA-cdEeet0YmmfbMwkw', 'CF2'),\n",
       "        ('_SFOFSucdEeet0YmmfbMwkw', 'CF3')], dtype=object),\n",
       " array([('_SFJyC-cdEeet0YmmfbMwkw', 'CF3'),\n",
       "        ('_SFHWA-cdEeet0YmmfbMwkw', 'CF2'),\n",
       "        ('_SE-zOOcdEeet0YmmfbMwkw', 'CF1')], dtype=object),\n",
       " array([('_SFJyC-cdEeet0YmmfbMwkw', 'CF3'),\n",
       "        ('_SFHWA-cdEeet0YmmfbMwkw', 'CF2')], dtype=object),\n",
       " array([('_SFJyC-cdEeet0YmmfbMwkw', 'CF3'),\n",
       "        ('_SE-z0OcdEeet0YmmfbMwkw', 'CF3'),\n",
       "        ('_SFOFSucdEeet0YmmfbMwkw', 'CF3'),\n",
       "        ('_SE-zOOcdEeet0YmmfbMwkw', 'CF1')], dtype=object),\n",
       " array([('_SFJyC-cdEeet0YmmfbMwkw', 'CF3'),\n",
       "        ('_SE-z0OcdEeet0YmmfbMwkw', 'CF3'),\n",
       "        ('_SFOFSucdEeet0YmmfbMwkw', 'CF3')], dtype=object),\n",
       " array([('_SFJyC-cdEeet0YmmfbMwkw', 'CF3'),\n",
       "        ('_SE-z0OcdEeet0YmmfbMwkw', 'CF3'),\n",
       "        ('_SE-zOOcdEeet0YmmfbMwkw', 'CF1')], dtype=object),\n",
       " array([('_SFJyC-cdEeet0YmmfbMwkw', 'CF3'),\n",
       "        ('_SE-z0OcdEeet0YmmfbMwkw', 'CF3')], dtype=object),\n",
       " array([('_SFJyC-cdEeet0YmmfbMwkw', 'CF3'),\n",
       "        ('_SFOFSucdEeet0YmmfbMwkw', 'CF3'),\n",
       "        ('_SE-zOOcdEeet0YmmfbMwkw', 'CF1')], dtype=object),\n",
       " array([('_SFJyC-cdEeet0YmmfbMwkw', 'CF3'),\n",
       "        ('_SFOFSucdEeet0YmmfbMwkw', 'CF3')], dtype=object),\n",
       " array([('_SFJyC-cdEeet0YmmfbMwkw', 'CF3'),\n",
       "        ('_SE-zOOcdEeet0YmmfbMwkw', 'CF1')], dtype=object),\n",
       " array([('_SFJyC-cdEeet0YmmfbMwkw', 'CF3')], dtype=object),\n",
       " array([('_SFHWA-cdEeet0YmmfbMwkw', 'CF2'),\n",
       "        ('_SE-z0OcdEeet0YmmfbMwkw', 'CF3'),\n",
       "        ('_SFOFSucdEeet0YmmfbMwkw', 'CF3'),\n",
       "        ('_SE-zOOcdEeet0YmmfbMwkw', 'CF1')], dtype=object),\n",
       " array([('_SFHWA-cdEeet0YmmfbMwkw', 'CF2'),\n",
       "        ('_SE-z0OcdEeet0YmmfbMwkw', 'CF3'),\n",
       "        ('_SFOFSucdEeet0YmmfbMwkw', 'CF3')], dtype=object),\n",
       " array([('_SFHWA-cdEeet0YmmfbMwkw', 'CF2'),\n",
       "        ('_SE-z0OcdEeet0YmmfbMwkw', 'CF3'),\n",
       "        ('_SE-zOOcdEeet0YmmfbMwkw', 'CF1')], dtype=object),\n",
       " array([('_SFHWA-cdEeet0YmmfbMwkw', 'CF2'),\n",
       "        ('_SE-z0OcdEeet0YmmfbMwkw', 'CF3')], dtype=object),\n",
       " array([('_SFHWA-cdEeet0YmmfbMwkw', 'CF2'),\n",
       "        ('_SFOFSucdEeet0YmmfbMwkw', 'CF3'),\n",
       "        ('_SE-zOOcdEeet0YmmfbMwkw', 'CF1')], dtype=object),\n",
       " array([('_SFHWA-cdEeet0YmmfbMwkw', 'CF2'),\n",
       "        ('_SFOFSucdEeet0YmmfbMwkw', 'CF3')], dtype=object),\n",
       " array([('_SFHWA-cdEeet0YmmfbMwkw', 'CF2'),\n",
       "        ('_SE-zOOcdEeet0YmmfbMwkw', 'CF1')], dtype=object),\n",
       " array([('_SFHWA-cdEeet0YmmfbMwkw', 'CF2')], dtype=object),\n",
       " array([('_SE-z0OcdEeet0YmmfbMwkw', 'CF3'),\n",
       "        ('_SFOFSucdEeet0YmmfbMwkw', 'CF3'),\n",
       "        ('_SE-zOOcdEeet0YmmfbMwkw', 'CF1')], dtype=object),\n",
       " array([('_SE-z0OcdEeet0YmmfbMwkw', 'CF3'),\n",
       "        ('_SFOFSucdEeet0YmmfbMwkw', 'CF3')], dtype=object),\n",
       " array([('_SE-z0OcdEeet0YmmfbMwkw', 'CF3'),\n",
       "        ('_SE-zOOcdEeet0YmmfbMwkw', 'CF1')], dtype=object),\n",
       " array([('_SE-z0OcdEeet0YmmfbMwkw', 'CF3')], dtype=object),\n",
       " array([('_SFOFSucdEeet0YmmfbMwkw', 'CF3'),\n",
       "        ('_SE-zOOcdEeet0YmmfbMwkw', 'CF1')], dtype=object),\n",
       " array([('_SFOFSucdEeet0YmmfbMwkw', 'CF3')], dtype=object),\n",
       " array([('_SE-zOOcdEeet0YmmfbMwkw', 'CF1')], dtype=object),\n",
       " array([], dtype=object)]"
      ]
     },
     "metadata": {},
     "execution_count": 9
    }
   ],
   "source": [
    "env.observation_space_names"
   ]
  },
  {
   "cell_type": "markdown",
   "metadata": {},
   "source": [
    "### Examples"
   ]
  },
  {
   "cell_type": "markdown",
   "metadata": {},
   "source": [
    "#### Example 1"
   ]
  },
  {
   "cell_type": "code",
   "execution_count": 5,
   "metadata": {
    "tags": []
   },
   "outputs": [
    {
     "output_type": "stream",
     "name": "stdout",
     "text": [
      "Steps:  0\nAction:  None\nSuccessful:  None\nState:  [('_SFSVDecdEeet0YmmfbMwkw', 'CF3'), ('_SEvisucdEeet0YmmfbMwkw', 'CF3'), ('_SFLAj-cdEeet0YmmfbMwkw', 'CF1'), ('_SFLAXecdEeet0YmmfbMwkw', 'CF1'), ('_SEwJt-cdEeet0YmmfbMwkw', 'CF1')] \n\n\n[1. 0. 1. 1. 1.] 15.84 False\nSteps:  1\nAction:  ('_SEvisucdEeet0YmmfbMwkw', 'CF3')\nSuccessful:  True\nState:  [('_SFSVDecdEeet0YmmfbMwkw', 'CF3'), ('_SFLAj-cdEeet0YmmfbMwkw', 'CF1'), ('_SFLAXecdEeet0YmmfbMwkw', 'CF1'), ('_SEwJt-cdEeet0YmmfbMwkw', 'CF1')] \n\n\n[1. 0. 1. 1. 0.] 13.231349999999999 False\nSteps:  2\nAction:  ('_SEwJt-cdEeet0YmmfbMwkw', 'CF1')\nSuccessful:  True\nState:  [('_SFSVDecdEeet0YmmfbMwkw', 'CF3'), ('_SFLAj-cdEeet0YmmfbMwkw', 'CF1'), ('_SFLAXecdEeet0YmmfbMwkw', 'CF1')] \n\n\n[1. 0. 1. 1. 0.] -74.2278735 False\nSteps:  3\nAction:  ('_SEvisucdEeet0YmmfbMwkw', 'CF3')\nSuccessful:  None\nState:  [('_SFSVDecdEeet0YmmfbMwkw', 'CF3'), ('_SFLAj-cdEeet0YmmfbMwkw', 'CF1'), ('_SFLAXecdEeet0YmmfbMwkw', 'CF1')] \n\n\n"
     ]
    }
   ],
   "source": [
    "env.reset(reward_modus='raw') # possible reward_modus 'raw', 'sqt', 'log10', 'cubic'\n",
    "env.render()\n",
    "\n",
    "action = env.action_space.sample()\n",
    "state, reward, done, _ = env.step(action)\n",
    "print(state, reward, done)\n",
    "env.render()\n",
    "\n",
    "action = env.action_space.sample()\n",
    "state, reward, done, _ = env.step(action)\n",
    "print(state, reward, done)\n",
    "env.render()\n",
    "\n",
    "action = env.action_space.sample()\n",
    "state, reward, done, _ = env.step(action)\n",
    "print(state, reward, done)\n",
    "env.render()"
   ]
  },
  {
   "cell_type": "markdown",
   "metadata": {},
   "source": [
    "#### Example 2"
   ]
  },
  {
   "cell_type": "code",
   "execution_count": 6,
   "metadata": {},
   "outputs": [
    {
     "output_type": "stream",
     "name": "stdout",
     "text": [
      "Steps:  8\n",
      "Action:  ('_SEvisucdEeet0YmmfbMwkw', 'CF3')\n",
      "Successful:  True\n",
      "State:  [] \n",
      "\n",
      "\n",
      "Reward:  14.763915110846721\n",
      "FINISHED!\n",
      "Acc Reward:  61.76717337485657\n"
     ]
    }
   ],
   "source": [
    "env.reset('raw') # possible reward_modus 'raw', 'sqt', 'log10', 'cube'\n",
    "accumulated_reward = 0\n",
    "episode_done = False\n",
    "\n",
    "while(not episode_done):\n",
    "    action = env.action_space.sample()\n",
    "    state, reward, done, _ = env.step(action)\n",
    "    accumulated_reward += reward\n",
    "    \n",
    "    clear_output(wait=True)\n",
    "    env.render()\n",
    "    print('Reward: ', reward)\n",
    "    time.sleep(1)\n",
    "    \n",
    "    \n",
    "    if(done):\n",
    "        print('FINISHED!')\n",
    "        print('Acc Reward: ', accumulated_reward)\n",
    "    episode_done = done"
   ]
  },
  {
   "cell_type": "code",
   "execution_count": null,
   "metadata": {},
   "outputs": [],
   "source": []
  }
 ],
 "metadata": {
  "kernelspec": {
   "name": "python3",
   "display_name": "Python 3.9.0 64-bit",
   "metadata": {
    "interpreter": {
     "hash": "ac59ebe37160ed0dfa835113d9b8498d9f09ceb179beaac4002f036b9467c963"
    }
   }
  },
  "language_info": {
   "codemirror_mode": {
    "name": "ipython",
    "version": 3
   },
   "file_extension": ".py",
   "mimetype": "text/x-python",
   "name": "python",
   "nbconvert_exporter": "python",
   "pygments_lexer": "ipython3",
   "version": "3.9.0-final"
  },
  "pycharm": {
   "stem_cell": {
    "cell_type": "raw",
    "metadata": {
     "collapsed": false
    },
    "source": []
   }
  }
 },
 "nbformat": 4,
 "nbformat_minor": 4
}