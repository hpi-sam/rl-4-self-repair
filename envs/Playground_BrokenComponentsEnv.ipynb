{
 "cells": [
  {
   "cell_type": "code",
   "execution_count": 1,
   "metadata": {},
   "outputs": [
    {
     "output_type": "stream",
     "name": "stdout",
     "text": [
      "f:\\Studium\\ProbModels\\rl-4-self-repair\n"
     ]
    }
   ],
   "source": [
    "cd .."
   ]
  },
  {
   "cell_type": "code",
   "execution_count": 2,
   "metadata": {
    "pycharm": {
     "is_executing": false
    }
   },
   "outputs": [],
   "source": [
    "import time\n",
    "import sys\n",
    "if \"../\" not in sys.path:\n",
    "  sys.path.append(\"../\") \n",
    "from envs.broken_components import BrokenComponentsEnv\n",
    "from envs.broken_components_ctmc import BrokenComponentsCTMCEnv\n",
    "from envs.data_handler import DataHandler\n",
    "from IPython.display import clear_output\n",
    "from data.transition_matrix.hmm_trace import HMMTrace\n",
    "import numpy as np\n",
    "from matplotlib import pyplot as plt\n",
    "from scipy.optimize import curve_fit as curve_fit\n",
    "import pandas as pd"
   ]
  },
  {
   "cell_type": "code",
   "execution_count": 3,
   "metadata": {
    "tags": []
   },
   "outputs": [],
   "source": [
    "trace = HMMTrace()\n",
    "# trace.create_approx_transmat()\n",
    "# trace.write_transition_matrix('data/transition_matrix/transition_matrix_approx.csv')"
   ]
  },
  {
   "cell_type": "code",
   "execution_count": 85,
   "metadata": {},
   "outputs": [],
   "source": [
    "time_samples = [[[] for col in range(19 * 3)] for row in range(19 * 3)]\n",
    "for i in range(20):\n",
    "    samples = trace.time_samples(10000)\n",
    "    for orig, dest, time in samples:\n",
    "        time_samples[orig][dest].append(time)"
   ]
  },
  {
   "cell_type": "code",
   "execution_count": 103,
   "metadata": {
    "tags": []
   },
   "outputs": [
    {
     "output_type": "stream",
     "name": "stdout",
     "text": [
      "325.8190645232318\n"
     ]
    },
    {
     "output_type": "display_data",
     "data": {
      "text/plain": "<Figure size 432x288 with 1 Axes>",
      "image/svg+xml": "<?xml version=\"1.0\" encoding=\"utf-8\" standalone=\"no\"?>\r\n<!DOCTYPE svg PUBLIC \"-//W3C//DTD SVG 1.1//EN\"\r\n  \"http://www.w3.org/Graphics/SVG/1.1/DTD/svg11.dtd\">\r\n<!-- Created with matplotlib (https://matplotlib.org/) -->\r\n<svg height=\"247.922812pt\" version=\"1.1\" viewBox=\"0 0 368.7 247.922812\" width=\"368.7pt\" xmlns=\"http://www.w3.org/2000/svg\" xmlns:xlink=\"http://www.w3.org/1999/xlink\">\r\n <metadata>\r\n  <rdf:RDF xmlns:cc=\"http://creativecommons.org/ns#\" xmlns:dc=\"http://purl.org/dc/elements/1.1/\" xmlns:rdf=\"http://www.w3.org/1999/02/22-rdf-syntax-ns#\">\r\n   <cc:Work>\r\n    <dc:type rdf:resource=\"http://purl.org/dc/dcmitype/StillImage\"/>\r\n    <dc:date>2021-01-23T02:45:24.987968</dc:date>\r\n    <dc:format>image/svg+xml</dc:format>\r\n    <dc:creator>\r\n     <cc:Agent>\r\n      <dc:title>Matplotlib v3.3.3, https://matplotlib.org/</dc:title>\r\n     </cc:Agent>\r\n    </dc:creator>\r\n   </cc:Work>\r\n  </rdf:RDF>\r\n </metadata>\r\n <defs>\r\n  <style type=\"text/css\">*{stroke-linecap:butt;stroke-linejoin:round;}</style>\r\n </defs>\r\n <g id=\"figure_1\">\r\n  <g id=\"patch_1\">\r\n   <path d=\"M 0 247.922812 \r\nL 368.7 247.922812 \r\nL 368.7 0 \r\nL 0 0 \r\nz\r\n\" style=\"fill:none;\"/>\r\n  </g>\r\n  <g id=\"axes_1\">\r\n   <g id=\"patch_2\">\r\n    <path d=\"M 26.7 224.64 \r\nL 361.5 224.64 \r\nL 361.5 7.2 \r\nL 26.7 7.2 \r\nz\r\n\" style=\"fill:#ffffff;\"/>\r\n   </g>\r\n   <g id=\"matplotlib.axis_1\">\r\n    <g id=\"xtick_1\">\r\n     <g id=\"line2d_1\">\r\n      <defs>\r\n       <path d=\"M 0 0 \r\nL 0 3.5 \r\n\" id=\"m60bde074c4\" style=\"stroke:#000000;stroke-width:0.8;\"/>\r\n      </defs>\r\n      <g>\r\n       <use style=\"stroke:#000000;stroke-width:0.8;\" x=\"76.884909\" xlink:href=\"#m60bde074c4\" y=\"224.64\"/>\r\n      </g>\r\n     </g>\r\n     <g id=\"text_1\">\r\n      <!-- 0.002 -->\r\n      <g transform=\"translate(65.634909 238.58375)scale(0.1 -0.1)\">\r\n       <defs>\r\n        <path d=\"M 3.609375 32.71875 \r\nQ 3.609375 44.046875 7.03125 52.21875 \r\nQ 10.453125 60.40625 16.109375 64.40625 \r\nQ 20.515625 67.578125 25.203125 67.578125 \r\nQ 32.8125 67.578125 38.875 59.8125 \r\nQ 46.4375 50.203125 46.4375 33.734375 \r\nQ 46.4375 22.21875 43.109375 14.15625 \r\nQ 39.796875 6.109375 34.640625 2.46875 \r\nQ 29.5 -1.171875 24.703125 -1.171875 \r\nQ 15.234375 -1.171875 8.9375 10.015625 \r\nQ 3.609375 19.4375 3.609375 32.71875 \r\nz\r\nM 13.1875 31.5 \r\nQ 13.1875 17.828125 16.546875 9.1875 \r\nQ 19.34375 1.90625 24.859375 1.90625 \r\nQ 27.484375 1.90625 30.3125 4.265625 \r\nQ 33.15625 6.640625 34.625 12.203125 \r\nQ 36.859375 20.609375 36.859375 35.890625 \r\nQ 36.859375 47.21875 34.515625 54.78125 \r\nQ 32.765625 60.40625 29.984375 62.75 \r\nQ 27.984375 64.359375 25.140625 64.359375 \r\nQ 21.828125 64.359375 19.234375 61.375 \r\nQ 15.71875 57.328125 14.453125 48.625 \r\nQ 13.1875 39.9375 13.1875 31.5 \r\nz\r\n\" id=\"TimesNewRomanPSMT-48\"/>\r\n        <path d=\"M 12.5 9.46875 \r\nQ 14.796875 9.46875 16.359375 7.875 \r\nQ 17.921875 6.296875 17.921875 4.046875 \r\nQ 17.921875 1.8125 16.328125 0.21875 \r\nQ 14.75 -1.375 12.5 -1.375 \r\nQ 10.25 -1.375 8.65625 0.21875 \r\nQ 7.078125 1.8125 7.078125 4.046875 \r\nQ 7.078125 6.34375 8.65625 7.90625 \r\nQ 10.25 9.46875 12.5 9.46875 \r\nz\r\n\" id=\"TimesNewRomanPSMT-46\"/>\r\n        <path d=\"M 45.84375 12.75 \r\nL 41.21875 0 \r\nL 2.15625 0 \r\nL 2.15625 1.8125 \r\nQ 19.390625 17.53125 26.421875 27.484375 \r\nQ 33.453125 37.453125 33.453125 45.703125 \r\nQ 33.453125 52 29.59375 56.046875 \r\nQ 25.734375 60.109375 20.359375 60.109375 \r\nQ 15.484375 60.109375 11.59375 57.25 \r\nQ 7.71875 54.390625 5.859375 48.875 \r\nL 4.046875 48.875 \r\nQ 5.28125 57.90625 10.328125 62.734375 \r\nQ 15.375 67.578125 22.953125 67.578125 \r\nQ 31 67.578125 36.390625 62.40625 \r\nQ 41.796875 57.234375 41.796875 50.203125 \r\nQ 41.796875 45.171875 39.453125 40.140625 \r\nQ 35.84375 32.234375 27.734375 23.390625 \r\nQ 15.578125 10.109375 12.546875 7.375 \r\nL 29.828125 7.375 \r\nQ 35.109375 7.375 37.234375 7.765625 \r\nQ 39.359375 8.15625 41.0625 9.34375 \r\nQ 42.78125 10.546875 44.046875 12.75 \r\nz\r\n\" id=\"TimesNewRomanPSMT-50\"/>\r\n       </defs>\r\n       <use xlink:href=\"#TimesNewRomanPSMT-48\"/>\r\n       <use x=\"50\" xlink:href=\"#TimesNewRomanPSMT-46\"/>\r\n       <use x=\"75\" xlink:href=\"#TimesNewRomanPSMT-48\"/>\r\n       <use x=\"125\" xlink:href=\"#TimesNewRomanPSMT-48\"/>\r\n       <use x=\"175\" xlink:href=\"#TimesNewRomanPSMT-50\"/>\r\n      </g>\r\n     </g>\r\n    </g>\r\n    <g id=\"xtick_2\">\r\n     <g id=\"line2d_2\">\r\n      <g>\r\n       <use style=\"stroke:#000000;stroke-width:0.8;\" x=\"144.445631\" xlink:href=\"#m60bde074c4\" y=\"224.64\"/>\r\n      </g>\r\n     </g>\r\n     <g id=\"text_2\">\r\n      <!-- 0.004 -->\r\n      <g transform=\"translate(133.195631 238.58375)scale(0.1 -0.1)\">\r\n       <defs>\r\n        <path d=\"M 46.53125 24.421875 \r\nL 46.53125 17.484375 \r\nL 37.640625 17.484375 \r\nL 37.640625 0 \r\nL 29.59375 0 \r\nL 29.59375 17.484375 \r\nL 1.5625 17.484375 \r\nL 1.5625 23.734375 \r\nL 32.28125 67.578125 \r\nL 37.640625 67.578125 \r\nL 37.640625 24.421875 \r\nz\r\nM 29.59375 24.421875 \r\nL 29.59375 57.28125 \r\nL 6.34375 24.421875 \r\nz\r\n\" id=\"TimesNewRomanPSMT-52\"/>\r\n       </defs>\r\n       <use xlink:href=\"#TimesNewRomanPSMT-48\"/>\r\n       <use x=\"50\" xlink:href=\"#TimesNewRomanPSMT-46\"/>\r\n       <use x=\"75\" xlink:href=\"#TimesNewRomanPSMT-48\"/>\r\n       <use x=\"125\" xlink:href=\"#TimesNewRomanPSMT-48\"/>\r\n       <use x=\"175\" xlink:href=\"#TimesNewRomanPSMT-52\"/>\r\n      </g>\r\n     </g>\r\n    </g>\r\n    <g id=\"xtick_3\">\r\n     <g id=\"line2d_3\">\r\n      <g>\r\n       <use style=\"stroke:#000000;stroke-width:0.8;\" x=\"212.006353\" xlink:href=\"#m60bde074c4\" y=\"224.64\"/>\r\n      </g>\r\n     </g>\r\n     <g id=\"text_3\">\r\n      <!-- 0.006 -->\r\n      <g transform=\"translate(200.756353 238.58375)scale(0.1 -0.1)\">\r\n       <defs>\r\n        <path d=\"M 44.828125 67.578125 \r\nL 44.828125 65.765625 \r\nQ 38.375 65.140625 34.296875 63.203125 \r\nQ 30.21875 61.28125 26.234375 57.328125 \r\nQ 22.265625 53.375 19.65625 48.515625 \r\nQ 17.046875 43.65625 15.28125 36.96875 \r\nQ 22.3125 41.796875 29.390625 41.796875 \r\nQ 36.1875 41.796875 41.15625 36.328125 \r\nQ 46.140625 30.859375 46.140625 22.265625 \r\nQ 46.140625 13.96875 41.109375 7.125 \r\nQ 35.0625 -1.171875 25.09375 -1.171875 \r\nQ 18.3125 -1.171875 13.578125 3.328125 \r\nQ 4.296875 12.0625 4.296875 25.984375 \r\nQ 4.296875 34.859375 7.859375 42.859375 \r\nQ 11.421875 50.875 18.03125 57.078125 \r\nQ 24.65625 63.28125 30.703125 65.421875 \r\nQ 36.765625 67.578125 42 67.578125 \r\nz\r\nM 14.453125 33.40625 \r\nQ 13.578125 26.8125 13.578125 22.75 \r\nQ 13.578125 18.0625 15.3125 12.5625 \r\nQ 17.046875 7.078125 20.453125 3.859375 \r\nQ 22.953125 1.5625 26.515625 1.5625 \r\nQ 30.765625 1.5625 34.109375 5.5625 \r\nQ 37.453125 9.578125 37.453125 17 \r\nQ 37.453125 25.34375 34.125 31.4375 \r\nQ 30.8125 37.546875 24.703125 37.546875 \r\nQ 22.859375 37.546875 20.734375 36.765625 \r\nQ 18.609375 35.984375 14.453125 33.40625 \r\nz\r\n\" id=\"TimesNewRomanPSMT-54\"/>\r\n       </defs>\r\n       <use xlink:href=\"#TimesNewRomanPSMT-48\"/>\r\n       <use x=\"50\" xlink:href=\"#TimesNewRomanPSMT-46\"/>\r\n       <use x=\"75\" xlink:href=\"#TimesNewRomanPSMT-48\"/>\r\n       <use x=\"125\" xlink:href=\"#TimesNewRomanPSMT-48\"/>\r\n       <use x=\"175\" xlink:href=\"#TimesNewRomanPSMT-54\"/>\r\n      </g>\r\n     </g>\r\n    </g>\r\n    <g id=\"xtick_4\">\r\n     <g id=\"line2d_4\">\r\n      <g>\r\n       <use style=\"stroke:#000000;stroke-width:0.8;\" x=\"279.567074\" xlink:href=\"#m60bde074c4\" y=\"224.64\"/>\r\n      </g>\r\n     </g>\r\n     <g id=\"text_4\">\r\n      <!-- 0.008 -->\r\n      <g transform=\"translate(268.317074 238.58375)scale(0.1 -0.1)\">\r\n       <defs>\r\n        <path d=\"M 19.1875 33.34375 \r\nQ 11.328125 39.796875 9.046875 43.703125 \r\nQ 6.78125 47.609375 6.78125 51.8125 \r\nQ 6.78125 58.25 11.765625 62.90625 \r\nQ 16.75 67.578125 25 67.578125 \r\nQ 33.015625 67.578125 37.890625 63.234375 \r\nQ 42.78125 58.890625 42.78125 53.328125 \r\nQ 42.78125 49.609375 40.140625 45.75 \r\nQ 37.5 41.890625 29.15625 36.671875 \r\nQ 37.75 30.03125 40.53125 26.21875 \r\nQ 44.234375 21.234375 44.234375 15.71875 \r\nQ 44.234375 8.734375 38.90625 3.78125 \r\nQ 33.59375 -1.171875 24.953125 -1.171875 \r\nQ 15.53125 -1.171875 10.25 4.734375 \r\nQ 6.0625 9.46875 6.0625 15.09375 \r\nQ 6.0625 19.484375 9.015625 23.796875 \r\nQ 11.96875 28.125 19.1875 33.34375 \r\nz\r\nM 26.859375 38.578125 \r\nQ 32.71875 43.84375 34.28125 46.890625 \r\nQ 35.84375 49.953125 35.84375 53.8125 \r\nQ 35.84375 58.9375 32.953125 61.84375 \r\nQ 30.078125 64.75 25.09375 64.75 \r\nQ 20.125 64.75 17 61.859375 \r\nQ 13.875 58.984375 13.875 55.125 \r\nQ 13.875 52.59375 15.15625 50.046875 \r\nQ 16.453125 47.515625 18.84375 45.21875 \r\nz\r\nM 21.484375 31.5 \r\nQ 17.4375 28.078125 15.484375 24.046875 \r\nQ 13.53125 20.015625 13.53125 15.328125 \r\nQ 13.53125 9.03125 16.96875 5.25 \r\nQ 20.40625 1.46875 25.734375 1.46875 \r\nQ 31 1.46875 34.171875 4.4375 \r\nQ 37.359375 7.421875 37.359375 11.671875 \r\nQ 37.359375 15.1875 35.5 17.96875 \r\nQ 32.03125 23.140625 21.484375 31.5 \r\nz\r\n\" id=\"TimesNewRomanPSMT-56\"/>\r\n       </defs>\r\n       <use xlink:href=\"#TimesNewRomanPSMT-48\"/>\r\n       <use x=\"50\" xlink:href=\"#TimesNewRomanPSMT-46\"/>\r\n       <use x=\"75\" xlink:href=\"#TimesNewRomanPSMT-48\"/>\r\n       <use x=\"125\" xlink:href=\"#TimesNewRomanPSMT-48\"/>\r\n       <use x=\"175\" xlink:href=\"#TimesNewRomanPSMT-56\"/>\r\n      </g>\r\n     </g>\r\n    </g>\r\n    <g id=\"xtick_5\">\r\n     <g id=\"line2d_5\">\r\n      <g>\r\n       <use style=\"stroke:#000000;stroke-width:0.8;\" x=\"347.127796\" xlink:href=\"#m60bde074c4\" y=\"224.64\"/>\r\n      </g>\r\n     </g>\r\n     <g id=\"text_5\">\r\n      <!-- 0.010 -->\r\n      <g transform=\"translate(335.877796 238.58375)scale(0.1 -0.1)\">\r\n       <defs>\r\n        <path d=\"M 11.71875 59.71875 \r\nL 27.828125 67.578125 \r\nL 29.4375 67.578125 \r\nL 29.4375 11.671875 \r\nQ 29.4375 6.109375 29.90625 4.734375 \r\nQ 30.375 3.375 31.828125 2.640625 \r\nQ 33.296875 1.90625 37.796875 1.8125 \r\nL 37.796875 0 \r\nL 12.890625 0 \r\nL 12.890625 1.8125 \r\nQ 17.578125 1.90625 18.9375 2.609375 \r\nQ 20.3125 3.328125 20.84375 4.515625 \r\nQ 21.390625 5.71875 21.390625 11.671875 \r\nL 21.390625 47.40625 \r\nQ 21.390625 54.640625 20.90625 56.6875 \r\nQ 20.5625 58.25 19.65625 58.984375 \r\nQ 18.75 59.71875 17.484375 59.71875 \r\nQ 15.671875 59.71875 12.453125 58.203125 \r\nz\r\n\" id=\"TimesNewRomanPSMT-49\"/>\r\n       </defs>\r\n       <use xlink:href=\"#TimesNewRomanPSMT-48\"/>\r\n       <use x=\"50\" xlink:href=\"#TimesNewRomanPSMT-46\"/>\r\n       <use x=\"75\" xlink:href=\"#TimesNewRomanPSMT-48\"/>\r\n       <use x=\"125\" xlink:href=\"#TimesNewRomanPSMT-49\"/>\r\n       <use x=\"175\" xlink:href=\"#TimesNewRomanPSMT-48\"/>\r\n      </g>\r\n     </g>\r\n    </g>\r\n   </g>\r\n   <g id=\"matplotlib.axis_2\">\r\n    <g id=\"ytick_1\">\r\n     <g id=\"line2d_6\">\r\n      <defs>\r\n       <path d=\"M 0 0 \r\nL -3.5 0 \r\n\" id=\"m71bef482f1\" style=\"stroke:#000000;stroke-width:0.8;\"/>\r\n      </defs>\r\n      <g>\r\n       <use style=\"stroke:#000000;stroke-width:0.8;\" x=\"26.7\" xlink:href=\"#m71bef482f1\" y=\"214.756364\"/>\r\n      </g>\r\n     </g>\r\n     <g id=\"text_6\">\r\n      <!-- 0.0 -->\r\n      <g transform=\"translate(7.2 218.228239)scale(0.1 -0.1)\">\r\n       <use xlink:href=\"#TimesNewRomanPSMT-48\"/>\r\n       <use x=\"50\" xlink:href=\"#TimesNewRomanPSMT-46\"/>\r\n       <use x=\"75\" xlink:href=\"#TimesNewRomanPSMT-48\"/>\r\n      </g>\r\n     </g>\r\n    </g>\r\n    <g id=\"ytick_2\">\r\n     <g id=\"line2d_7\">\r\n      <g>\r\n       <use style=\"stroke:#000000;stroke-width:0.8;\" x=\"26.7\" xlink:href=\"#m71bef482f1\" y=\"175.214486\"/>\r\n      </g>\r\n     </g>\r\n     <g id=\"text_7\">\r\n      <!-- 0.2 -->\r\n      <g transform=\"translate(7.2 178.686361)scale(0.1 -0.1)\">\r\n       <use xlink:href=\"#TimesNewRomanPSMT-48\"/>\r\n       <use x=\"50\" xlink:href=\"#TimesNewRomanPSMT-46\"/>\r\n       <use x=\"75\" xlink:href=\"#TimesNewRomanPSMT-50\"/>\r\n      </g>\r\n     </g>\r\n    </g>\r\n    <g id=\"ytick_3\">\r\n     <g id=\"line2d_8\">\r\n      <g>\r\n       <use style=\"stroke:#000000;stroke-width:0.8;\" x=\"26.7\" xlink:href=\"#m71bef482f1\" y=\"135.672609\"/>\r\n      </g>\r\n     </g>\r\n     <g id=\"text_8\">\r\n      <!-- 0.4 -->\r\n      <g transform=\"translate(7.2 139.144484)scale(0.1 -0.1)\">\r\n       <use xlink:href=\"#TimesNewRomanPSMT-48\"/>\r\n       <use x=\"50\" xlink:href=\"#TimesNewRomanPSMT-46\"/>\r\n       <use x=\"75\" xlink:href=\"#TimesNewRomanPSMT-52\"/>\r\n      </g>\r\n     </g>\r\n    </g>\r\n    <g id=\"ytick_4\">\r\n     <g id=\"line2d_9\">\r\n      <g>\r\n       <use style=\"stroke:#000000;stroke-width:0.8;\" x=\"26.7\" xlink:href=\"#m71bef482f1\" y=\"96.130731\"/>\r\n      </g>\r\n     </g>\r\n     <g id=\"text_9\">\r\n      <!-- 0.6 -->\r\n      <g transform=\"translate(7.2 99.602606)scale(0.1 -0.1)\">\r\n       <use xlink:href=\"#TimesNewRomanPSMT-48\"/>\r\n       <use x=\"50\" xlink:href=\"#TimesNewRomanPSMT-46\"/>\r\n       <use x=\"75\" xlink:href=\"#TimesNewRomanPSMT-54\"/>\r\n      </g>\r\n     </g>\r\n    </g>\r\n    <g id=\"ytick_5\">\r\n     <g id=\"line2d_10\">\r\n      <g>\r\n       <use style=\"stroke:#000000;stroke-width:0.8;\" x=\"26.7\" xlink:href=\"#m71bef482f1\" y=\"56.588854\"/>\r\n      </g>\r\n     </g>\r\n     <g id=\"text_10\">\r\n      <!-- 0.8 -->\r\n      <g transform=\"translate(7.2 60.060729)scale(0.1 -0.1)\">\r\n       <use xlink:href=\"#TimesNewRomanPSMT-48\"/>\r\n       <use x=\"50\" xlink:href=\"#TimesNewRomanPSMT-46\"/>\r\n       <use x=\"75\" xlink:href=\"#TimesNewRomanPSMT-56\"/>\r\n      </g>\r\n     </g>\r\n    </g>\r\n    <g id=\"ytick_6\">\r\n     <g id=\"line2d_11\">\r\n      <g>\r\n       <use style=\"stroke:#000000;stroke-width:0.8;\" x=\"26.7\" xlink:href=\"#m71bef482f1\" y=\"17.046976\"/>\r\n      </g>\r\n     </g>\r\n     <g id=\"text_11\">\r\n      <!-- 1.0 -->\r\n      <g transform=\"translate(7.2 20.518851)scale(0.1 -0.1)\">\r\n       <use xlink:href=\"#TimesNewRomanPSMT-49\"/>\r\n       <use x=\"50\" xlink:href=\"#TimesNewRomanPSMT-46\"/>\r\n       <use x=\"75\" xlink:href=\"#TimesNewRomanPSMT-48\"/>\r\n      </g>\r\n     </g>\r\n    </g>\r\n   </g>\r\n   <g id=\"line2d_12\">\r\n    <path clip-path=\"url(#pb85ef77f71)\" d=\"M 41.918182 214.756364 \r\nL 42.634976 214.609722 \r\nL 42.804107 214.38976 \r\nL 42.941023 214.096477 \r\nL 43.037669 203.648271 \r\nL 43.069885 203.464969 \r\nL 43.174585 201.998554 \r\nL 43.239016 201.705271 \r\nL 43.343716 200.788762 \r\nL 43.408147 200.5688 \r\nL 43.512847 200.092215 \r\nL 70.364435 199.872252 \r\nL 74.753792 199.395668 \r\nL 74.794061 199.359007 \r\nL 75.430317 199.212366 \r\nL 75.671933 198.845762 \r\nL 75.768579 198.699121 \r\nL 76.203488 198.039234 \r\nL 76.308188 194.373197 \r\nL 76.340404 193.71331 \r\nL 76.445104 189.534028 \r\nL 76.477319 188.874141 \r\nL 76.58202 184.694858 \r\nL 76.614235 184.511557 \r\nL 76.718935 108.148001 \r\nL 76.743097 107.928039 \r\nL 76.847797 87.214929 \r\nL 76.855851 86.665023 \r\nL 76.952497 82.522401 \r\nL 76.984713 82.339099 \r\nL 77.089413 77.463269 \r\nL 77.121629 77.243307 \r\nL 77.226329 74.127176 \r\nL 77.258544 74.017194 \r\nL 77.9995 73.797232 \r\nL 78.031715 73.760572 \r\nL 83.741906 73.064025 \r\nL 85.698995 72.807402 \r\nL 85.739265 72.770742 \r\nL 87.962132 72.6241 \r\nL 87.970186 72.58744 \r\nL 95.460281 71.890893 \r\nL 96.507283 71.59761 \r\nL 99.245597 71.121025 \r\nL 99.277813 71.047704 \r\nL 100.977179 70.864402 \r\nL 101.138256 70.791082 \r\nL 104.617526 70.461138 \r\nL 109.820323 69.65461 \r\nL 109.989454 68.371497 \r\nL 110.094154 67.235026 \r\nL 110.12637 67.015063 \r\nL 110.23107 65.915252 \r\nL 110.263286 65.69529 \r\nL 110.367986 55.027122 \r\nL 110.392147 54.807159 \r\nL 110.496848 31.821106 \r\nL 110.529063 31.637804 \r\nL 110.633763 30.391351 \r\nL 110.665979 30.171389 \r\nL 110.770679 29.034918 \r\nL 110.802895 28.814955 \r\nL 110.899541 28.045088 \r\nL 111.342504 27.678484 \r\nL 111.447204 27.165239 \r\nL 111.640497 27.018597 \r\nL 115.296952 26.615333 \r\nL 115.900992 26.505352 \r\nL 117.423172 26.432031 \r\nL 124.615274 26.248729 \r\nL 124.792459 26.212069 \r\nL 143.56602 25.698824 \r\nL 143.839851 25.552182 \r\nL 143.936498 25.405541 \r\nL 144.008983 25.258899 \r\nL 144.113683 21.996126 \r\nL 144.137845 21.776164 \r\nL 144.242545 20.896315 \r\nL 144.548592 20.566372 \r\nL 145.217063 20.493051 \r\nL 177.585549 20.199768 \r\nL 177.75468 20.053127 \r\nL 177.85938 18.40341 \r\nL 177.891595 18.366749 \r\nL 185.043428 18.293429 \r\nL 211.435946 18.146787 \r\nL 211.532592 17.890165 \r\nL 211.564808 17.816844 \r\nL 245.149427 17.670202 \r\nL 245.173589 17.4869 \r\nL 278.830693 17.340259 \r\nL 278.854855 17.266938 \r\nL 346.281818 17.083636 \r\nL 346.281818 17.083636 \r\n\" style=\"fill:none;stroke:#1f77b4;stroke-linecap:square;stroke-width:1.5;\"/>\r\n   </g>\r\n   <g id=\"line2d_13\">\r\n    <path clip-path=\"url(#pb85ef77f71)\" d=\"M 41.918182 161.423107 \r\nL 44.992562 157.204763 \r\nL 48.066942 153.10967 \r\nL 51.141322 149.134225 \r\nL 54.215702 145.274935 \r\nL 57.290083 141.528404 \r\nL 60.364463 137.891338 \r\nL 63.438843 134.360539 \r\nL 66.513223 130.932902 \r\nL 69.587603 127.605412 \r\nL 72.661983 124.375145 \r\nL 75.736364 121.239258 \r\nL 78.810744 118.194996 \r\nL 81.885124 115.239679 \r\nL 84.959504 112.37071 \r\nL 88.033884 109.585566 \r\nL 91.108264 106.881798 \r\nL 94.182645 104.257028 \r\nL 97.257025 101.708947 \r\nL 100.331405 99.235316 \r\nL 103.405785 96.833958 \r\nL 106.480165 94.502763 \r\nL 109.554545 92.23968 \r\nL 112.628926 90.042719 \r\nL 115.703306 87.909949 \r\nL 118.777686 85.839493 \r\nL 121.852066 83.829531 \r\nL 124.926446 81.878296 \r\nL 128.000826 79.984071 \r\nL 131.075207 78.145192 \r\nL 134.149587 76.36004 \r\nL 137.223967 74.627046 \r\nL 140.298347 72.944687 \r\nL 143.372727 71.311482 \r\nL 146.447107 69.725996 \r\nL 149.521488 68.186834 \r\nL 152.595868 66.692643 \r\nL 155.670248 65.242109 \r\nL 158.744628 63.833956 \r\nL 161.819008 62.466946 \r\nL 164.893388 61.139877 \r\nL 167.967769 59.851583 \r\nL 171.042149 58.600929 \r\nL 174.116529 57.386816 \r\nL 177.190909 56.208177 \r\nL 180.265289 55.063976 \r\nL 183.339669 53.953205 \r\nL 186.41405 52.874888 \r\nL 189.48843 51.828078 \r\nL 192.56281 50.811852 \r\nL 195.63719 49.825319 \r\nL 198.71157 48.86761 \r\nL 201.78595 47.937883 \r\nL 204.860331 47.035321 \r\nL 207.934711 46.159129 \r\nL 211.009091 45.308538 \r\nL 214.083471 44.482799 \r\nL 217.157851 43.681186 \r\nL 220.232231 42.902995 \r\nL 223.306612 42.14754 \r\nL 226.380992 41.414159 \r\nL 229.455372 40.702205 \r\nL 232.529752 40.011052 \r\nL 235.604132 39.340094 \r\nL 238.678512 38.688739 \r\nL 241.752893 38.056416 \r\nL 244.827273 37.442568 \r\nL 247.901653 36.846655 \r\nL 250.976033 36.268153 \r\nL 254.050413 35.706553 \r\nL 257.124793 35.161363 \r\nL 260.199174 34.632101 \r\nL 263.273554 34.118304 \r\nL 266.347934 33.619518 \r\nL 269.422314 33.135306 \r\nL 272.496694 32.665241 \r\nL 275.571074 32.208911 \r\nL 278.645455 31.765913 \r\nL 281.719835 31.335859 \r\nL 284.794215 30.91837 \r\nL 287.868595 30.51308 \r\nL 290.942975 30.119631 \r\nL 294.017355 29.737677 \r\nL 297.091736 29.366884 \r\nL 300.166116 29.006924 \r\nL 303.240496 28.657481 \r\nL 306.314876 28.318248 \r\nL 309.389256 27.988927 \r\nL 312.463636 27.669228 \r\nL 315.538017 27.35887 \r\nL 318.612397 27.05758 \r\nL 321.686777 26.765093 \r\nL 324.761157 26.481151 \r\nL 327.835537 26.205506 \r\nL 330.909917 25.937914 \r\nL 333.984298 25.678141 \r\nL 337.058678 25.425958 \r\nL 340.133058 25.181143 \r\nL 343.207438 24.943481 \r\nL 346.281818 24.712763 \r\n\" style=\"fill:none;stroke:#ff7f0e;stroke-linecap:square;stroke-width:1.5;\"/>\r\n   </g>\r\n   <g id=\"patch_3\">\r\n    <path d=\"M 26.7 224.64 \r\nL 26.7 7.2 \r\n\" style=\"fill:none;stroke:#000000;stroke-linecap:square;stroke-linejoin:miter;stroke-width:0.8;\"/>\r\n   </g>\r\n   <g id=\"patch_4\">\r\n    <path d=\"M 361.5 224.64 \r\nL 361.5 7.2 \r\n\" style=\"fill:none;stroke:#000000;stroke-linecap:square;stroke-linejoin:miter;stroke-width:0.8;\"/>\r\n   </g>\r\n   <g id=\"patch_5\">\r\n    <path d=\"M 26.7 224.64 \r\nL 361.5 224.64 \r\n\" style=\"fill:none;stroke:#000000;stroke-linecap:square;stroke-linejoin:miter;stroke-width:0.8;\"/>\r\n   </g>\r\n   <g id=\"patch_6\">\r\n    <path d=\"M 26.7 7.2 \r\nL 361.5 7.2 \r\n\" style=\"fill:none;stroke:#000000;stroke-linecap:square;stroke-linejoin:miter;stroke-width:0.8;\"/>\r\n   </g>\r\n  </g>\r\n </g>\r\n <defs>\r\n  <clipPath id=\"pb85ef77f71\">\r\n   <rect height=\"217.44\" width=\"334.8\" x=\"26.7\" y=\"7.2\"/>\r\n  </clipPath>\r\n </defs>\r\n</svg>\r\n",
      "image/png": "[encoded data removed]"
     },
     "metadata": {
      "needs_background": "light"
     }
    }
   ],
   "source": [
    "rates = [[-1 for col in range(19 * 3)] for row in range(19 * 3)]\n",
    "for i in range(len(time_samples)):\n",
    "    for j in range(len(time_samples[i])):\n",
    "            samples = sorted(time_samples[i][j])\n",
    "            length = len(samples)\n",
    "            if length == 0:\n",
    "                rates[i][j] = 0\n",
    "                continue\n",
    "            if length == 1:\n",
    "                rates[i][j] = samples[0]\n",
    "                continue            \n",
    "            num_range = [samples[0], samples[-1]]\n",
    "            x = np.array([])\n",
    "            y = np.array([])\n",
    "            for k in range(length):\n",
    "                x = np.append(x, samples[k])\n",
    "                y = np.append(y, k / length)\n",
    "            opt = curve_fit(lambda t, a: 1.0 - np.exp(-a * t), x, y)\n",
    "            lam = opt[0][0]\n",
    "            compare_x = np.array([])\n",
    "            compare_y = np.array([])\n",
    "            num_samples = 100\n",
    "            for k in range(num_samples):\n",
    "                x_sample = num_range[0] + (num_range[1] - num_range[0]) * k / (num_samples - 1)\n",
    "                y_sample = 1.0 - np.exp(-lam * x_sample)\n",
    "                compare_x = np.append(compare_x, x_sample)\n",
    "                compare_y = np.append(compare_y, y_sample)\n",
    "            if i == 0 and j == 36:\n",
    "                print(lam)\n",
    "                plt.plot(x, y)\n",
    "                plt.plot(compare_x, compare_y)\n",
    "            rates[i][j] = lam\n",
    "# print(rates)"
   ]
  },
  {
   "cell_type": "code",
   "execution_count": 4,
   "metadata": {},
   "outputs": [
    {
     "output_type": "stream",
     "name": "stdout",
     "text": [
      "346.68473417340283\n"
     ]
    },
    {
     "output_type": "display_data",
     "data": {
      "text/plain": "<Figure size 432x288 with 1 Axes>",
      "image/svg+xml": "<?xml version=\"1.0\" encoding=\"utf-8\" standalone=\"no\"?>\r\n<!DOCTYPE svg PUBLIC \"-//W3C//DTD SVG 1.1//EN\"\r\n  \"http://www.w3.org/Graphics/SVG/1.1/DTD/svg11.dtd\">\r\n<!-- Created with matplotlib (https://matplotlib.org/) -->\r\n<svg height=\"247.922812pt\" version=\"1.1\" viewBox=\"0 0 368.7 247.922812\" width=\"368.7pt\" xmlns=\"http://www.w3.org/2000/svg\" xmlns:xlink=\"http://www.w3.org/1999/xlink\">\r\n <metadata>\r\n  <rdf:RDF xmlns:cc=\"http://creativecommons.org/ns#\" xmlns:dc=\"http://purl.org/dc/elements/1.1/\" xmlns:rdf=\"http://www.w3.org/1999/02/22-rdf-syntax-ns#\">\r\n   <cc:Work>\r\n    <dc:type rdf:resource=\"http://purl.org/dc/dcmitype/StillImage\"/>\r\n    <dc:date>2021-01-25T02:58:14.713982</dc:date>\r\n    <dc:format>image/svg+xml</dc:format>\r\n    <dc:creator>\r\n     <cc:Agent>\r\n      <dc:title>Matplotlib v3.3.3, https://matplotlib.org/</dc:title>\r\n     </cc:Agent>\r\n    </dc:creator>\r\n   </cc:Work>\r\n  </rdf:RDF>\r\n </metadata>\r\n <defs>\r\n  <style type=\"text/css\">*{stroke-linecap:butt;stroke-linejoin:round;}</style>\r\n </defs>\r\n <g id=\"figure_1\">\r\n  <g id=\"patch_1\">\r\n   <path d=\"M 0 247.922812 \r\nL 368.7 247.922812 \r\nL 368.7 0 \r\nL 0 0 \r\nz\r\n\" style=\"fill:none;\"/>\r\n  </g>\r\n  <g id=\"axes_1\">\r\n   <g id=\"patch_2\">\r\n    <path d=\"M 26.7 224.64 \r\nL 361.5 224.64 \r\nL 361.5 7.2 \r\nL 26.7 7.2 \r\nz\r\n\" style=\"fill:#ffffff;\"/>\r\n   </g>\r\n   <g id=\"matplotlib.axis_1\">\r\n    <g id=\"xtick_1\">\r\n     <g id=\"line2d_1\">\r\n      <defs>\r\n       <path d=\"M 0 0 \r\nL 0 3.5 \r\n\" id=\"m52fab59f5e\" style=\"stroke:#000000;stroke-width:0.8;\"/>\r\n      </defs>\r\n      <g>\r\n       <use style=\"stroke:#000000;stroke-width:0.8;\" x=\"43.207541\" xlink:href=\"#m52fab59f5e\" y=\"224.64\"/>\r\n      </g>\r\n     </g>\r\n     <g id=\"text_1\">\r\n      <!-- 0.001 -->\r\n      <g transform=\"translate(31.957541 238.58375)scale(0.1 -0.1)\">\r\n       <defs>\r\n        <path d=\"M 3.609375 32.71875 \r\nQ 3.609375 44.046875 7.03125 52.21875 \r\nQ 10.453125 60.40625 16.109375 64.40625 \r\nQ 20.515625 67.578125 25.203125 67.578125 \r\nQ 32.8125 67.578125 38.875 59.8125 \r\nQ 46.4375 50.203125 46.4375 33.734375 \r\nQ 46.4375 22.21875 43.109375 14.15625 \r\nQ 39.796875 6.109375 34.640625 2.46875 \r\nQ 29.5 -1.171875 24.703125 -1.171875 \r\nQ 15.234375 -1.171875 8.9375 10.015625 \r\nQ 3.609375 19.4375 3.609375 32.71875 \r\nz\r\nM 13.1875 31.5 \r\nQ 13.1875 17.828125 16.546875 9.1875 \r\nQ 19.34375 1.90625 24.859375 1.90625 \r\nQ 27.484375 1.90625 30.3125 4.265625 \r\nQ 33.15625 6.640625 34.625 12.203125 \r\nQ 36.859375 20.609375 36.859375 35.890625 \r\nQ 36.859375 47.21875 34.515625 54.78125 \r\nQ 32.765625 60.40625 29.984375 62.75 \r\nQ 27.984375 64.359375 25.140625 64.359375 \r\nQ 21.828125 64.359375 19.234375 61.375 \r\nQ 15.71875 57.328125 14.453125 48.625 \r\nQ 13.1875 39.9375 13.1875 31.5 \r\nz\r\n\" id=\"TimesNewRomanPSMT-48\"/>\r\n        <path d=\"M 12.5 9.46875 \r\nQ 14.796875 9.46875 16.359375 7.875 \r\nQ 17.921875 6.296875 17.921875 4.046875 \r\nQ 17.921875 1.8125 16.328125 0.21875 \r\nQ 14.75 -1.375 12.5 -1.375 \r\nQ 10.25 -1.375 8.65625 0.21875 \r\nQ 7.078125 1.8125 7.078125 4.046875 \r\nQ 7.078125 6.34375 8.65625 7.90625 \r\nQ 10.25 9.46875 12.5 9.46875 \r\nz\r\n\" id=\"TimesNewRomanPSMT-46\"/>\r\n        <path d=\"M 11.71875 59.71875 \r\nL 27.828125 67.578125 \r\nL 29.4375 67.578125 \r\nL 29.4375 11.671875 \r\nQ 29.4375 6.109375 29.90625 4.734375 \r\nQ 30.375 3.375 31.828125 2.640625 \r\nQ 33.296875 1.90625 37.796875 1.8125 \r\nL 37.796875 0 \r\nL 12.890625 0 \r\nL 12.890625 1.8125 \r\nQ 17.578125 1.90625 18.9375 2.609375 \r\nQ 20.3125 3.328125 20.84375 4.515625 \r\nQ 21.390625 5.71875 21.390625 11.671875 \r\nL 21.390625 47.40625 \r\nQ 21.390625 54.640625 20.90625 56.6875 \r\nQ 20.5625 58.25 19.65625 58.984375 \r\nQ 18.75 59.71875 17.484375 59.71875 \r\nQ 15.671875 59.71875 12.453125 58.203125 \r\nz\r\n\" id=\"TimesNewRomanPSMT-49\"/>\r\n       </defs>\r\n       <use xlink:href=\"#TimesNewRomanPSMT-48\"/>\r\n       <use x=\"50\" xlink:href=\"#TimesNewRomanPSMT-46\"/>\r\n       <use x=\"75\" xlink:href=\"#TimesNewRomanPSMT-48\"/>\r\n       <use x=\"125\" xlink:href=\"#TimesNewRomanPSMT-48\"/>\r\n       <use x=\"175\" xlink:href=\"#TimesNewRomanPSMT-49\"/>\r\n      </g>\r\n     </g>\r\n    </g>\r\n    <g id=\"xtick_2\">\r\n     <g id=\"line2d_2\">\r\n      <g>\r\n       <use style=\"stroke:#000000;stroke-width:0.8;\" x=\"81.210447\" xlink:href=\"#m52fab59f5e\" y=\"224.64\"/>\r\n      </g>\r\n     </g>\r\n     <g id=\"text_2\">\r\n      <!-- 0.002 -->\r\n      <g transform=\"translate(69.960447 238.58375)scale(0.1 -0.1)\">\r\n       <defs>\r\n        <path d=\"M 45.84375 12.75 \r\nL 41.21875 0 \r\nL 2.15625 0 \r\nL 2.15625 1.8125 \r\nQ 19.390625 17.53125 26.421875 27.484375 \r\nQ 33.453125 37.453125 33.453125 45.703125 \r\nQ 33.453125 52 29.59375 56.046875 \r\nQ 25.734375 60.109375 20.359375 60.109375 \r\nQ 15.484375 60.109375 11.59375 57.25 \r\nQ 7.71875 54.390625 5.859375 48.875 \r\nL 4.046875 48.875 \r\nQ 5.28125 57.90625 10.328125 62.734375 \r\nQ 15.375 67.578125 22.953125 67.578125 \r\nQ 31 67.578125 36.390625 62.40625 \r\nQ 41.796875 57.234375 41.796875 50.203125 \r\nQ 41.796875 45.171875 39.453125 40.140625 \r\nQ 35.84375 32.234375 27.734375 23.390625 \r\nQ 15.578125 10.109375 12.546875 7.375 \r\nL 29.828125 7.375 \r\nQ 35.109375 7.375 37.234375 7.765625 \r\nQ 39.359375 8.15625 41.0625 9.34375 \r\nQ 42.78125 10.546875 44.046875 12.75 \r\nz\r\n\" id=\"TimesNewRomanPSMT-50\"/>\r\n       </defs>\r\n       <use xlink:href=\"#TimesNewRomanPSMT-48\"/>\r\n       <use x=\"50\" xlink:href=\"#TimesNewRomanPSMT-46\"/>\r\n       <use x=\"75\" xlink:href=\"#TimesNewRomanPSMT-48\"/>\r\n       <use x=\"125\" xlink:href=\"#TimesNewRomanPSMT-48\"/>\r\n       <use x=\"175\" xlink:href=\"#TimesNewRomanPSMT-50\"/>\r\n      </g>\r\n     </g>\r\n    </g>\r\n    <g id=\"xtick_3\">\r\n     <g id=\"line2d_3\">\r\n      <g>\r\n       <use style=\"stroke:#000000;stroke-width:0.8;\" x=\"119.213353\" xlink:href=\"#m52fab59f5e\" y=\"224.64\"/>\r\n      </g>\r\n     </g>\r\n     <g id=\"text_3\">\r\n      <!-- 0.003 -->\r\n      <g transform=\"translate(107.963353 238.58375)scale(0.1 -0.1)\">\r\n       <defs>\r\n        <path d=\"M 5.078125 53.609375 \r\nQ 7.90625 60.296875 12.21875 63.9375 \r\nQ 16.546875 67.578125 23 67.578125 \r\nQ 30.953125 67.578125 35.203125 62.40625 \r\nQ 38.421875 58.546875 38.421875 54.15625 \r\nQ 38.421875 46.921875 29.34375 39.203125 \r\nQ 35.453125 36.8125 38.578125 32.375 \r\nQ 41.703125 27.9375 41.703125 21.921875 \r\nQ 41.703125 13.328125 36.234375 7.03125 \r\nQ 29.109375 -1.171875 15.578125 -1.171875 \r\nQ 8.890625 -1.171875 6.46875 0.484375 \r\nQ 4.046875 2.15625 4.046875 4.046875 \r\nQ 4.046875 5.46875 5.1875 6.546875 \r\nQ 6.34375 7.625 7.953125 7.625 \r\nQ 9.1875 7.625 10.453125 7.234375 \r\nQ 11.28125 6.984375 14.203125 5.4375 \r\nQ 17.140625 3.90625 18.265625 3.609375 \r\nQ 20.0625 3.078125 22.125 3.078125 \r\nQ 27.09375 3.078125 30.78125 6.9375 \r\nQ 34.46875 10.796875 34.46875 16.0625 \r\nQ 34.46875 19.921875 32.765625 23.578125 \r\nQ 31.5 26.3125 29.984375 27.734375 \r\nQ 27.875 29.6875 24.21875 31.265625 \r\nQ 20.5625 32.859375 16.75 32.859375 \r\nL 15.1875 32.859375 \r\nL 15.1875 34.328125 \r\nQ 19.046875 34.8125 22.921875 37.109375 \r\nQ 26.8125 39.40625 28.5625 42.625 \r\nQ 30.328125 45.84375 30.328125 49.703125 \r\nQ 30.328125 54.734375 27.171875 57.828125 \r\nQ 24.03125 60.9375 19.34375 60.9375 \r\nQ 11.765625 60.9375 6.6875 52.828125 \r\nz\r\n\" id=\"TimesNewRomanPSMT-51\"/>\r\n       </defs>\r\n       <use xlink:href=\"#TimesNewRomanPSMT-48\"/>\r\n       <use x=\"50\" xlink:href=\"#TimesNewRomanPSMT-46\"/>\r\n       <use x=\"75\" xlink:href=\"#TimesNewRomanPSMT-48\"/>\r\n       <use x=\"125\" xlink:href=\"#TimesNewRomanPSMT-48\"/>\r\n       <use x=\"175\" xlink:href=\"#TimesNewRomanPSMT-51\"/>\r\n      </g>\r\n     </g>\r\n    </g>\r\n    <g id=\"xtick_4\">\r\n     <g id=\"line2d_4\">\r\n      <g>\r\n       <use style=\"stroke:#000000;stroke-width:0.8;\" x=\"157.216259\" xlink:href=\"#m52fab59f5e\" y=\"224.64\"/>\r\n      </g>\r\n     </g>\r\n     <g id=\"text_4\">\r\n      <!-- 0.004 -->\r\n      <g transform=\"translate(145.966259 238.58375)scale(0.1 -0.1)\">\r\n       <defs>\r\n        <path d=\"M 46.53125 24.421875 \r\nL 46.53125 17.484375 \r\nL 37.640625 17.484375 \r\nL 37.640625 0 \r\nL 29.59375 0 \r\nL 29.59375 17.484375 \r\nL 1.5625 17.484375 \r\nL 1.5625 23.734375 \r\nL 32.28125 67.578125 \r\nL 37.640625 67.578125 \r\nL 37.640625 24.421875 \r\nz\r\nM 29.59375 24.421875 \r\nL 29.59375 57.28125 \r\nL 6.34375 24.421875 \r\nz\r\n\" id=\"TimesNewRomanPSMT-52\"/>\r\n       </defs>\r\n       <use xlink:href=\"#TimesNewRomanPSMT-48\"/>\r\n       <use x=\"50\" xlink:href=\"#TimesNewRomanPSMT-46\"/>\r\n       <use x=\"75\" xlink:href=\"#TimesNewRomanPSMT-48\"/>\r\n       <use x=\"125\" xlink:href=\"#TimesNewRomanPSMT-48\"/>\r\n       <use x=\"175\" xlink:href=\"#TimesNewRomanPSMT-52\"/>\r\n      </g>\r\n     </g>\r\n    </g>\r\n    <g id=\"xtick_5\">\r\n     <g id=\"line2d_5\">\r\n      <g>\r\n       <use style=\"stroke:#000000;stroke-width:0.8;\" x=\"195.219165\" xlink:href=\"#m52fab59f5e\" y=\"224.64\"/>\r\n      </g>\r\n     </g>\r\n     <g id=\"text_5\">\r\n      <!-- 0.005 -->\r\n      <g transform=\"translate(183.969165 238.58375)scale(0.1 -0.1)\">\r\n       <defs>\r\n        <path d=\"M 43.40625 66.21875 \r\nL 39.59375 57.90625 \r\nL 19.671875 57.90625 \r\nL 15.328125 49.03125 \r\nQ 28.265625 47.125 35.84375 39.40625 \r\nQ 42.328125 32.765625 42.328125 23.78125 \r\nQ 42.328125 18.5625 40.203125 14.109375 \r\nQ 38.09375 9.671875 34.859375 6.546875 \r\nQ 31.640625 3.421875 27.6875 1.515625 \r\nQ 22.078125 -1.171875 16.15625 -1.171875 \r\nQ 10.203125 -1.171875 7.484375 0.84375 \r\nQ 4.78125 2.875 4.78125 5.328125 \r\nQ 4.78125 6.6875 5.90625 7.734375 \r\nQ 7.03125 8.796875 8.734375 8.796875 \r\nQ 10.015625 8.796875 10.96875 8.40625 \r\nQ 11.921875 8.015625 14.203125 6.390625 \r\nQ 17.875 3.859375 21.625 3.859375 \r\nQ 27.34375 3.859375 31.65625 8.171875 \r\nQ 35.984375 12.5 35.984375 18.703125 \r\nQ 35.984375 24.703125 32.125 29.90625 \r\nQ 28.265625 35.109375 21.484375 37.9375 \r\nQ 16.15625 40.140625 6.984375 40.484375 \r\nL 19.671875 66.21875 \r\nz\r\n\" id=\"TimesNewRomanPSMT-53\"/>\r\n       </defs>\r\n       <use xlink:href=\"#TimesNewRomanPSMT-48\"/>\r\n       <use x=\"50\" xlink:href=\"#TimesNewRomanPSMT-46\"/>\r\n       <use x=\"75\" xlink:href=\"#TimesNewRomanPSMT-48\"/>\r\n       <use x=\"125\" xlink:href=\"#TimesNewRomanPSMT-48\"/>\r\n       <use x=\"175\" xlink:href=\"#TimesNewRomanPSMT-53\"/>\r\n      </g>\r\n     </g>\r\n    </g>\r\n    <g id=\"xtick_6\">\r\n     <g id=\"line2d_6\">\r\n      <g>\r\n       <use style=\"stroke:#000000;stroke-width:0.8;\" x=\"233.222071\" xlink:href=\"#m52fab59f5e\" y=\"224.64\"/>\r\n      </g>\r\n     </g>\r\n     <g id=\"text_6\">\r\n      <!-- 0.006 -->\r\n      <g transform=\"translate(221.972071 238.58375)scale(0.1 -0.1)\">\r\n       <defs>\r\n        <path d=\"M 44.828125 67.578125 \r\nL 44.828125 65.765625 \r\nQ 38.375 65.140625 34.296875 63.203125 \r\nQ 30.21875 61.28125 26.234375 57.328125 \r\nQ 22.265625 53.375 19.65625 48.515625 \r\nQ 17.046875 43.65625 15.28125 36.96875 \r\nQ 22.3125 41.796875 29.390625 41.796875 \r\nQ 36.1875 41.796875 41.15625 36.328125 \r\nQ 46.140625 30.859375 46.140625 22.265625 \r\nQ 46.140625 13.96875 41.109375 7.125 \r\nQ 35.0625 -1.171875 25.09375 -1.171875 \r\nQ 18.3125 -1.171875 13.578125 3.328125 \r\nQ 4.296875 12.0625 4.296875 25.984375 \r\nQ 4.296875 34.859375 7.859375 42.859375 \r\nQ 11.421875 50.875 18.03125 57.078125 \r\nQ 24.65625 63.28125 30.703125 65.421875 \r\nQ 36.765625 67.578125 42 67.578125 \r\nz\r\nM 14.453125 33.40625 \r\nQ 13.578125 26.8125 13.578125 22.75 \r\nQ 13.578125 18.0625 15.3125 12.5625 \r\nQ 17.046875 7.078125 20.453125 3.859375 \r\nQ 22.953125 1.5625 26.515625 1.5625 \r\nQ 30.765625 1.5625 34.109375 5.5625 \r\nQ 37.453125 9.578125 37.453125 17 \r\nQ 37.453125 25.34375 34.125 31.4375 \r\nQ 30.8125 37.546875 24.703125 37.546875 \r\nQ 22.859375 37.546875 20.734375 36.765625 \r\nQ 18.609375 35.984375 14.453125 33.40625 \r\nz\r\n\" id=\"TimesNewRomanPSMT-54\"/>\r\n       </defs>\r\n       <use xlink:href=\"#TimesNewRomanPSMT-48\"/>\r\n       <use x=\"50\" xlink:href=\"#TimesNewRomanPSMT-46\"/>\r\n       <use x=\"75\" xlink:href=\"#TimesNewRomanPSMT-48\"/>\r\n       <use x=\"125\" xlink:href=\"#TimesNewRomanPSMT-48\"/>\r\n       <use x=\"175\" xlink:href=\"#TimesNewRomanPSMT-54\"/>\r\n      </g>\r\n     </g>\r\n    </g>\r\n    <g id=\"xtick_7\">\r\n     <g id=\"line2d_7\">\r\n      <g>\r\n       <use style=\"stroke:#000000;stroke-width:0.8;\" x=\"271.224977\" xlink:href=\"#m52fab59f5e\" y=\"224.64\"/>\r\n      </g>\r\n     </g>\r\n     <g id=\"text_7\">\r\n      <!-- 0.007 -->\r\n      <g transform=\"translate(259.974977 238.58375)scale(0.1 -0.1)\">\r\n       <defs>\r\n        <path d=\"M 10.0625 66.21875 \r\nL 45.5625 66.21875 \r\nL 45.5625 64.359375 \r\nL 23.484375 -1.375 \r\nL 18.015625 -1.375 \r\nL 37.796875 58.25 \r\nL 19.578125 58.25 \r\nQ 14.0625 58.25 11.71875 56.9375 \r\nQ 7.625 54.6875 5.125 50 \r\nL 3.71875 50.53125 \r\nz\r\n\" id=\"TimesNewRomanPSMT-55\"/>\r\n       </defs>\r\n       <use xlink:href=\"#TimesNewRomanPSMT-48\"/>\r\n       <use x=\"50\" xlink:href=\"#TimesNewRomanPSMT-46\"/>\r\n       <use x=\"75\" xlink:href=\"#TimesNewRomanPSMT-48\"/>\r\n       <use x=\"125\" xlink:href=\"#TimesNewRomanPSMT-48\"/>\r\n       <use x=\"175\" xlink:href=\"#TimesNewRomanPSMT-55\"/>\r\n      </g>\r\n     </g>\r\n    </g>\r\n    <g id=\"xtick_8\">\r\n     <g id=\"line2d_8\">\r\n      <g>\r\n       <use style=\"stroke:#000000;stroke-width:0.8;\" x=\"309.227883\" xlink:href=\"#m52fab59f5e\" y=\"224.64\"/>\r\n      </g>\r\n     </g>\r\n     <g id=\"text_8\">\r\n      <!-- 0.008 -->\r\n      <g transform=\"translate(297.977883 238.58375)scale(0.1 -0.1)\">\r\n       <defs>\r\n        <path d=\"M 19.1875 33.34375 \r\nQ 11.328125 39.796875 9.046875 43.703125 \r\nQ 6.78125 47.609375 6.78125 51.8125 \r\nQ 6.78125 58.25 11.765625 62.90625 \r\nQ 16.75 67.578125 25 67.578125 \r\nQ 33.015625 67.578125 37.890625 63.234375 \r\nQ 42.78125 58.890625 42.78125 53.328125 \r\nQ 42.78125 49.609375 40.140625 45.75 \r\nQ 37.5 41.890625 29.15625 36.671875 \r\nQ 37.75 30.03125 40.53125 26.21875 \r\nQ 44.234375 21.234375 44.234375 15.71875 \r\nQ 44.234375 8.734375 38.90625 3.78125 \r\nQ 33.59375 -1.171875 24.953125 -1.171875 \r\nQ 15.53125 -1.171875 10.25 4.734375 \r\nQ 6.0625 9.46875 6.0625 15.09375 \r\nQ 6.0625 19.484375 9.015625 23.796875 \r\nQ 11.96875 28.125 19.1875 33.34375 \r\nz\r\nM 26.859375 38.578125 \r\nQ 32.71875 43.84375 34.28125 46.890625 \r\nQ 35.84375 49.953125 35.84375 53.8125 \r\nQ 35.84375 58.9375 32.953125 61.84375 \r\nQ 30.078125 64.75 25.09375 64.75 \r\nQ 20.125 64.75 17 61.859375 \r\nQ 13.875 58.984375 13.875 55.125 \r\nQ 13.875 52.59375 15.15625 50.046875 \r\nQ 16.453125 47.515625 18.84375 45.21875 \r\nz\r\nM 21.484375 31.5 \r\nQ 17.4375 28.078125 15.484375 24.046875 \r\nQ 13.53125 20.015625 13.53125 15.328125 \r\nQ 13.53125 9.03125 16.96875 5.25 \r\nQ 20.40625 1.46875 25.734375 1.46875 \r\nQ 31 1.46875 34.171875 4.4375 \r\nQ 37.359375 7.421875 37.359375 11.671875 \r\nQ 37.359375 15.1875 35.5 17.96875 \r\nQ 32.03125 23.140625 21.484375 31.5 \r\nz\r\n\" id=\"TimesNewRomanPSMT-56\"/>\r\n       </defs>\r\n       <use xlink:href=\"#TimesNewRomanPSMT-48\"/>\r\n       <use x=\"50\" xlink:href=\"#TimesNewRomanPSMT-46\"/>\r\n       <use x=\"75\" xlink:href=\"#TimesNewRomanPSMT-48\"/>\r\n       <use x=\"125\" xlink:href=\"#TimesNewRomanPSMT-48\"/>\r\n       <use x=\"175\" xlink:href=\"#TimesNewRomanPSMT-56\"/>\r\n      </g>\r\n     </g>\r\n    </g>\r\n    <g id=\"xtick_9\">\r\n     <g id=\"line2d_9\">\r\n      <g>\r\n       <use style=\"stroke:#000000;stroke-width:0.8;\" x=\"347.230789\" xlink:href=\"#m52fab59f5e\" y=\"224.64\"/>\r\n      </g>\r\n     </g>\r\n     <g id=\"text_9\">\r\n      <!-- 0.009 -->\r\n      <g transform=\"translate(335.980789 238.58375)scale(0.1 -0.1)\">\r\n       <defs>\r\n        <path d=\"M 5.28125 -1.375 \r\nL 5.28125 0.4375 \r\nQ 11.625 0.53125 17.09375 3.390625 \r\nQ 22.5625 6.25 27.65625 13.375 \r\nQ 32.765625 20.515625 34.765625 29.046875 \r\nQ 27.09375 24.125 20.90625 24.125 \r\nQ 13.921875 24.125 8.9375 29.515625 \r\nQ 3.953125 34.90625 3.953125 43.84375 \r\nQ 3.953125 52.546875 8.9375 59.328125 \r\nQ 14.9375 67.578125 24.609375 67.578125 \r\nQ 32.765625 67.578125 38.578125 60.84375 \r\nQ 45.703125 52.484375 45.703125 40.234375 \r\nQ 45.703125 29.203125 40.28125 19.65625 \r\nQ 34.859375 10.109375 25.203125 3.8125 \r\nQ 17.328125 -1.375 8.0625 -1.375 \r\nz\r\nM 35.546875 32.671875 \r\nQ 36.421875 39.015625 36.421875 42.828125 \r\nQ 36.421875 47.5625 34.8125 53.046875 \r\nQ 33.203125 58.546875 30.25 61.46875 \r\nQ 27.296875 64.40625 23.53125 64.40625 \r\nQ 19.1875 64.40625 15.90625 60.5 \r\nQ 12.640625 56.59375 12.640625 48.875 \r\nQ 12.640625 38.578125 17 32.765625 \r\nQ 20.171875 28.5625 24.8125 28.5625 \r\nQ 27.046875 28.5625 30.125 29.640625 \r\nQ 33.203125 30.71875 35.546875 32.671875 \r\nz\r\n\" id=\"TimesNewRomanPSMT-57\"/>\r\n       </defs>\r\n       <use xlink:href=\"#TimesNewRomanPSMT-48\"/>\r\n       <use x=\"50\" xlink:href=\"#TimesNewRomanPSMT-46\"/>\r\n       <use x=\"75\" xlink:href=\"#TimesNewRomanPSMT-48\"/>\r\n       <use x=\"125\" xlink:href=\"#TimesNewRomanPSMT-48\"/>\r\n       <use x=\"175\" xlink:href=\"#TimesNewRomanPSMT-57\"/>\r\n      </g>\r\n     </g>\r\n    </g>\r\n   </g>\r\n   <g id=\"matplotlib.axis_2\">\r\n    <g id=\"ytick_1\">\r\n     <g id=\"line2d_10\">\r\n      <defs>\r\n       <path d=\"M 0 0 \r\nL -3.5 0 \r\n\" id=\"m7af4e6c385\" style=\"stroke:#000000;stroke-width:0.8;\"/>\r\n      </defs>\r\n      <g>\r\n       <use style=\"stroke:#000000;stroke-width:0.8;\" x=\"26.7\" xlink:href=\"#m7af4e6c385\" y=\"214.756364\"/>\r\n      </g>\r\n     </g>\r\n     <g id=\"text_10\">\r\n      <!-- 0.0 -->\r\n      <g transform=\"translate(7.2 218.228239)scale(0.1 -0.1)\">\r\n       <use xlink:href=\"#TimesNewRomanPSMT-48\"/>\r\n       <use x=\"50\" xlink:href=\"#TimesNewRomanPSMT-46\"/>\r\n       <use x=\"75\" xlink:href=\"#TimesNewRomanPSMT-48\"/>\r\n      </g>\r\n     </g>\r\n    </g>\r\n    <g id=\"ytick_2\">\r\n     <g id=\"line2d_11\">\r\n      <g>\r\n       <use style=\"stroke:#000000;stroke-width:0.8;\" x=\"26.7\" xlink:href=\"#m7af4e6c385\" y=\"175.214489\"/>\r\n      </g>\r\n     </g>\r\n     <g id=\"text_11\">\r\n      <!-- 0.2 -->\r\n      <g transform=\"translate(7.2 178.686364)scale(0.1 -0.1)\">\r\n       <use xlink:href=\"#TimesNewRomanPSMT-48\"/>\r\n       <use x=\"50\" xlink:href=\"#TimesNewRomanPSMT-46\"/>\r\n       <use x=\"75\" xlink:href=\"#TimesNewRomanPSMT-50\"/>\r\n      </g>\r\n     </g>\r\n    </g>\r\n    <g id=\"ytick_3\">\r\n     <g id=\"line2d_12\">\r\n      <g>\r\n       <use style=\"stroke:#000000;stroke-width:0.8;\" x=\"26.7\" xlink:href=\"#m7af4e6c385\" y=\"135.672614\"/>\r\n      </g>\r\n     </g>\r\n     <g id=\"text_12\">\r\n      <!-- 0.4 -->\r\n      <g transform=\"translate(7.2 139.144489)scale(0.1 -0.1)\">\r\n       <use xlink:href=\"#TimesNewRomanPSMT-48\"/>\r\n       <use x=\"50\" xlink:href=\"#TimesNewRomanPSMT-46\"/>\r\n       <use x=\"75\" xlink:href=\"#TimesNewRomanPSMT-52\"/>\r\n      </g>\r\n     </g>\r\n    </g>\r\n    <g id=\"ytick_4\">\r\n     <g id=\"line2d_13\">\r\n      <g>\r\n       <use style=\"stroke:#000000;stroke-width:0.8;\" x=\"26.7\" xlink:href=\"#m7af4e6c385\" y=\"96.130739\"/>\r\n      </g>\r\n     </g>\r\n     <g id=\"text_13\">\r\n      <!-- 0.6 -->\r\n      <g transform=\"translate(7.2 99.602614)scale(0.1 -0.1)\">\r\n       <use xlink:href=\"#TimesNewRomanPSMT-48\"/>\r\n       <use x=\"50\" xlink:href=\"#TimesNewRomanPSMT-46\"/>\r\n       <use x=\"75\" xlink:href=\"#TimesNewRomanPSMT-54\"/>\r\n      </g>\r\n     </g>\r\n    </g>\r\n    <g id=\"ytick_5\">\r\n     <g id=\"line2d_14\">\r\n      <g>\r\n       <use style=\"stroke:#000000;stroke-width:0.8;\" x=\"26.7\" xlink:href=\"#m7af4e6c385\" y=\"56.588864\"/>\r\n      </g>\r\n     </g>\r\n     <g id=\"text_14\">\r\n      <!-- 0.8 -->\r\n      <g transform=\"translate(7.2 60.060739)scale(0.1 -0.1)\">\r\n       <use xlink:href=\"#TimesNewRomanPSMT-48\"/>\r\n       <use x=\"50\" xlink:href=\"#TimesNewRomanPSMT-46\"/>\r\n       <use x=\"75\" xlink:href=\"#TimesNewRomanPSMT-56\"/>\r\n      </g>\r\n     </g>\r\n    </g>\r\n    <g id=\"ytick_6\">\r\n     <g id=\"line2d_15\">\r\n      <g>\r\n       <use style=\"stroke:#000000;stroke-width:0.8;\" x=\"26.7\" xlink:href=\"#m7af4e6c385\" y=\"17.04699\"/>\r\n      </g>\r\n     </g>\r\n     <g id=\"text_15\">\r\n      <!-- 1.0 -->\r\n      <g transform=\"translate(7.2 20.518865)scale(0.1 -0.1)\">\r\n       <use xlink:href=\"#TimesNewRomanPSMT-49\"/>\r\n       <use x=\"50\" xlink:href=\"#TimesNewRomanPSMT-46\"/>\r\n       <use x=\"75\" xlink:href=\"#TimesNewRomanPSMT-48\"/>\r\n      </g>\r\n     </g>\r\n    </g>\r\n   </g>\r\n   <g id=\"line2d_16\">\r\n    <path clip-path=\"url(#p3b1974b1d3)\" d=\"M 41.918182 214.756364 \r\nL 42.063151 214.646423 \r\nL 42.633969 214.499836 \r\nL 42.833302 214.133368 \r\nL 43.050757 213.65696 \r\nL 43.132302 202.186518 \r\nL 43.168544 202.003284 \r\nL 43.277272 200.757294 \r\nL 43.585332 199.071542 \r\nL 43.657817 198.485194 \r\nL 79.882091 198.338607 \r\nL 80.407606 198.192019 \r\nL 80.489151 196.762795 \r\nL 80.525393 196.579561 \r\nL 80.634121 192.511769 \r\nL 80.643181 192.035361 \r\nL 80.751908 188.187449 \r\nL 80.788151 187.6011 \r\nL 80.869696 183.899776 \r\nL 80.905939 183.716542 \r\nL 81.014666 113.537959 \r\nL 81.023726 113.061551 \r\nL 81.132454 63.148638 \r\nL 81.168696 62.562289 \r\nL 81.277423 58.970905 \r\nL 81.286484 58.494497 \r\nL 81.395211 55.232934 \r\nL 81.404272 54.756525 \r\nL 81.512999 50.688733 \r\nL 81.558302 50.065738 \r\nL 81.630787 49.662623 \r\nL 84.059027 49.516036 \r\nL 118.380575 49.369449 \r\nL 118.489303 48.67316 \r\nL 118.797363 46.987408 \r\nL 118.90609 34.747384 \r\nL 118.915151 34.270976 \r\nL 119.023878 22.580653 \r\nL 119.096363 22.360773 \r\nL 119.177908 21.737777 \r\nL 119.250393 21.517897 \r\nL 119.322878 21.298016 \r\nL 119.440666 21.078135 \r\nL 119.476908 21.004842 \r\nL 120.056786 20.638374 \r\nL 120.165513 20.491787 \r\nL 122.330997 20.381846 \r\nL 156.715969 20.235259 \r\nL 156.797515 19.502324 \r\nL 156.833757 19.31909 \r\nL 156.915302 18.18304 \r\nL 157.105575 18.146393 \r\nL 158.056938 18.109746 \r\nL 194.688939 17.963159 \r\nL 194.761424 17.303517 \r\nL 194.915454 17.26687 \r\nL 346.281818 17.083636 \r\nL 346.281818 17.083636 \r\n\" style=\"fill:none;stroke:#1f77b4;stroke-linecap:square;stroke-width:1.5;\"/>\r\n   </g>\r\n   <g id=\"line2d_17\">\r\n    <path clip-path=\"url(#p3b1974b1d3)\" d=\"M 41.918182 158.487004 \r\nL 44.992562 154.575247 \r\nL 48.066942 150.771677 \r\nL 51.141322 147.0733 \r\nL 54.215702 143.477208 \r\nL 57.290083 139.980572 \r\nL 60.364463 136.580642 \r\nL 63.438843 133.274741 \r\nL 66.513223 130.060271 \r\nL 69.587603 126.934703 \r\nL 72.661983 123.895577 \r\nL 75.736364 120.940503 \r\nL 78.810744 118.067157 \r\nL 81.885124 115.273278 \r\nL 84.959504 112.556668 \r\nL 88.033884 109.91519 \r\nL 91.108264 107.346767 \r\nL 94.182645 104.849378 \r\nL 97.257025 102.421058 \r\nL 100.331405 100.059898 \r\nL 103.405785 97.764039 \r\nL 106.480165 95.531676 \r\nL 109.554545 93.361053 \r\nL 112.628926 91.250462 \r\nL 115.703306 89.198242 \r\nL 118.777686 87.202781 \r\nL 121.852066 85.262507 \r\nL 124.926446 83.375894 \r\nL 128.000826 81.541459 \r\nL 131.075207 79.757758 \r\nL 134.149587 78.023388 \r\nL 137.223967 76.336986 \r\nL 140.298347 74.697223 \r\nL 143.372727 73.102811 \r\nL 146.447107 71.552495 \r\nL 149.521488 70.045055 \r\nL 152.595868 68.579306 \r\nL 155.670248 67.154095 \r\nL 158.744628 65.768301 \r\nL 161.819008 64.420832 \r\nL 164.893388 63.110631 \r\nL 167.967769 61.836665 \r\nL 171.042149 60.597933 \r\nL 174.116529 59.39346 \r\nL 177.190909 58.222298 \r\nL 180.265289 57.083527 \r\nL 183.339669 55.976251 \r\nL 186.41405 54.899598 \r\nL 189.48843 53.852722 \r\nL 192.56281 52.834798 \r\nL 195.63719 51.845028 \r\nL 198.71157 50.882631 \r\nL 201.78595 49.94685 \r\nL 204.860331 49.03695 \r\nL 207.934711 48.152215 \r\nL 211.009091 47.291949 \r\nL 214.083471 46.455475 \r\nL 217.157851 45.642135 \r\nL 220.232231 44.851289 \r\nL 223.306612 44.082315 \r\nL 226.380992 43.334609 \r\nL 229.455372 42.607581 \r\nL 232.529752 41.900661 \r\nL 235.604132 41.213292 \r\nL 238.678512 40.544933 \r\nL 241.752893 39.895058 \r\nL 244.827273 39.263157 \r\nL 247.901653 38.648733 \r\nL 250.976033 38.051301 \r\nL 254.050413 37.470392 \r\nL 257.124793 36.905549 \r\nL 260.199174 36.356328 \r\nL 263.273554 35.822296 \r\nL 266.347934 35.303034 \r\nL 269.422314 34.798133 \r\nL 272.496694 34.307196 \r\nL 275.571074 33.829837 \r\nL 278.645455 33.365679 \r\nL 281.719835 32.914359 \r\nL 284.794215 32.475521 \r\nL 287.868595 32.04882 \r\nL 290.942975 31.633919 \r\nL 294.017355 31.230494 \r\nL 297.091736 30.838225 \r\nL 300.166116 30.456806 \r\nL 303.240496 30.085936 \r\nL 306.314876 29.725322 \r\nL 309.389256 29.374682 \r\nL 312.463636 29.033739 \r\nL 315.538017 28.702226 \r\nL 318.612397 28.379881 \r\nL 321.686777 28.066451 \r\nL 324.761157 27.76169 \r\nL 327.835537 27.465357 \r\nL 330.909917 27.17722 \r\nL 333.984298 26.897052 \r\nL 337.058678 26.624632 \r\nL 340.133058 26.359747 \r\nL 343.207438 26.102187 \r\nL 346.281818 25.851751 \r\n\" style=\"fill:none;stroke:#ff7f0e;stroke-linecap:square;stroke-width:1.5;\"/>\r\n   </g>\r\n   <g id=\"patch_3\">\r\n    <path d=\"M 26.7 224.64 \r\nL 26.7 7.2 \r\n\" style=\"fill:none;stroke:#000000;stroke-linecap:square;stroke-linejoin:miter;stroke-width:0.8;\"/>\r\n   </g>\r\n   <g id=\"patch_4\">\r\n    <path d=\"M 361.5 224.64 \r\nL 361.5 7.2 \r\n\" style=\"fill:none;stroke:#000000;stroke-linecap:square;stroke-linejoin:miter;stroke-width:0.8;\"/>\r\n   </g>\r\n   <g id=\"patch_5\">\r\n    <path d=\"M 26.7 224.64 \r\nL 361.5 224.64 \r\n\" style=\"fill:none;stroke:#000000;stroke-linecap:square;stroke-linejoin:miter;stroke-width:0.8;\"/>\r\n   </g>\r\n   <g id=\"patch_6\">\r\n    <path d=\"M 26.7 7.2 \r\nL 361.5 7.2 \r\n\" style=\"fill:none;stroke:#000000;stroke-linecap:square;stroke-linejoin:miter;stroke-width:0.8;\"/>\r\n   </g>\r\n  </g>\r\n </g>\r\n <defs>\r\n  <clipPath id=\"p3b1974b1d3\">\r\n   <rect height=\"217.44\" width=\"334.8\" x=\"26.7\" y=\"7.2\"/>\r\n  </clipPath>\r\n </defs>\r\n</svg>\r\n",
      "image/png": "[encoded data removed]"
     },
     "metadata": {
      "needs_background": "light"
     }
    }
   ],
   "source": [
    "trace.create_transition_rate_matrix(20, 10000)"
   ]
  },
  {
   "cell_type": "code",
   "execution_count": 5,
   "metadata": {},
   "outputs": [],
   "source": [
    "trace.write_transition_rate_matrix('data/transition_matrix/transition_rate_matrix_approx.csv')"
   ]
  },
  {
   "cell_type": "code",
   "execution_count": 3,
   "metadata": {
    "tags": []
   },
   "outputs": [
    {
     "output_type": "execute_result",
     "data": {
      "text/plain": [
       "[('_SFMQK-cdEeet0YmmfbMwkw', 'CF3'),\n",
       " ('_SFJyq-cdEeet0YmmfbMwkw', 'CF3'),\n",
       " ('_SE7IwecdEeet0YmmfbMwkw', 'CF1'),\n",
       " ('_SE_aYOcdEeet0YmmfbMwkw', 'CF1'),\n",
       " ('_SEz0XOcdEeet0YmmfbMwkw', 'CF1')]"
      ]
     },
     "metadata": {},
     "execution_count": 3
    }
   ],
   "source": [
    "dh = DataHandler(transition_matrix_path='data/transition_matrix/transition_matrix_approx.csv')\n",
    "broken_components = dh.get_sample_component_failure_pairs(5)\n",
    "broken_components"
   ]
  },
  {
   "cell_type": "markdown",
   "metadata": {},
   "source": [
    "## Environment"
   ]
  },
  {
   "cell_type": "code",
   "execution_count": 7,
   "metadata": {},
   "outputs": [],
   "source": [
    "# possible reward_modus 'raw', 'sqt', 'log10', 'cube'\n",
    "env = BrokenComponentsEnv(broken_components, reward_modus='raw', reward_decrease=True, reward_decrease_factor=0.99, state_as_vec=True, hidden_states=True, transition_matrix_path='data/transition_matrix/transition_matrix_approx.csv')\n",
    "# env = BrokenComponentsEnv(broken_components, reward_modus='raw', reward_decrease=True, reward_decrease_factor=0.99, state_as_vec=False)"
   ]
  },
  {
   "cell_type": "code",
   "execution_count": 4,
   "metadata": {
    "tags": []
   },
   "outputs": [],
   "source": [
    "env = BrokenComponentsCTMCEnv(broken_components, reward_modus='raw', reward_decrease=True, reward_decrease_factor=0.99, state_as_vec=True, hidden_states=True, transition_rate_matrix_path='data/transition_matrix/transition_rate_matrix_approx.csv')"
   ]
  },
  {
   "cell_type": "code",
   "execution_count": 5,
   "metadata": {
    "tags": []
   },
   "outputs": [
    {
     "output_type": "stream",
     "name": "stdout",
     "text": [
      "0.9999999999999999\n"
     ]
    }
   ],
   "source": [
    "trans = env.data_handler.transition\n",
    "axes = trans.transition_rate_matrix.axes\n",
    "rows = axes[0]\n",
    "columns = axes[1]\n",
    "print(sum(trans.transition_matrix.iloc[3, 1:(len(columns) - 1)].values.tolist()))\n",
    "trans.write_embedded_DTMC('data/transition_matrix/embedded_dtmc_transition_matrix.csv')"
   ]
  },
  {
   "cell_type": "code",
   "execution_count": 6,
   "metadata": {},
   "outputs": [
    {
     "output_type": "error",
     "ename": "NameError",
     "evalue": "name 'pd' is not defined",
     "traceback": [
      "\u001b[1;31m---------------------------------------------------------------------------\u001b[0m",
      "\u001b[1;31mNameError\u001b[0m                                 Traceback (most recent call last)",
      "\u001b[1;32m<ipython-input-6-3351492cc726>\u001b[0m in \u001b[0;36m<module>\u001b[1;34m\u001b[0m\n\u001b[1;32m----> 1\u001b[1;33m \u001b[0membedded\u001b[0m \u001b[1;33m=\u001b[0m \u001b[0mpd\u001b[0m\u001b[1;33m.\u001b[0m\u001b[0mread_csv\u001b[0m\u001b[1;33m(\u001b[0m\u001b[1;34m'data/transition_matrix/embedded_dtmc_transition_matrix.csv'\u001b[0m\u001b[1;33m)\u001b[0m\u001b[1;33m\u001b[0m\u001b[1;33m\u001b[0m\u001b[0m\n\u001b[0m\u001b[0;32m      2\u001b[0m \u001b[0membedded\u001b[0m\u001b[1;33m\u001b[0m\u001b[1;33m\u001b[0m\u001b[0m\n",
      "\u001b[1;31mNameError\u001b[0m: name 'pd' is not defined"
     ]
    }
   ],
   "source": [
    "embedded = pd.read_csv('data/transition_matrix/embedded_dtmc_transition_matrix.csv')\n",
    "embedded"
   ]
  },
  {
   "cell_type": "markdown",
   "metadata": {},
   "source": [
    "### Env properties"
   ]
  },
  {
   "cell_type": "code",
   "execution_count": 6,
   "metadata": {},
   "outputs": [
    {
     "output_type": "execute_result",
     "data": {
      "text/plain": [
       "5"
      ]
     },
     "metadata": {},
     "execution_count": 6
    }
   ],
   "source": [
    "n_actions = env.action_space.n\n",
    "n_actions"
   ]
  },
  {
   "cell_type": "code",
   "execution_count": 5,
   "metadata": {},
   "outputs": [
    {
     "output_type": "execute_result",
     "data": {
      "text/plain": [
       "{'_SFKaeecdEeet0YmmfbMwkw': 'operational',\n",
       " '_SFLBxecdEeet0YmmfbMwkw': 'degraded',\n",
       " '_SEuUbecdEeet0YmmfbMwkw': 'operational',\n",
       " '_SFOFUOcdEeet0YmmfbMwkw': 'operational',\n",
       " '_SEx-rucdEeet0YmmfbMwkw': 'operational'}"
      ]
     },
     "metadata": {},
     "execution_count": 5
    }
   ],
   "source": [
    "env.hidden_space_dict"
   ]
  },
  {
   "cell_type": "code",
   "execution_count": 7,
   "metadata": {},
   "outputs": [
    {
     "output_type": "execute_result",
     "data": {
      "text/plain": [
       "32"
      ]
     },
     "metadata": {},
     "execution_count": 7
    }
   ],
   "source": [
    "n_states = env.observation_space.n\n",
    "n_states"
   ]
  },
  {
   "cell_type": "code",
   "execution_count": 8,
   "metadata": {},
   "outputs": [
    {
     "output_type": "execute_result",
     "data": {
      "text/plain": [
       "array([('_SFJyC-cdEeet0YmmfbMwkw', 'CF3'),\n",
       "       ('_SFHWA-cdEeet0YmmfbMwkw', 'CF2'),\n",
       "       ('_SE-z0OcdEeet0YmmfbMwkw', 'CF3'),\n",
       "       ('_SFOFSucdEeet0YmmfbMwkw', 'CF3'),\n",
       "       ('_SE-zOOcdEeet0YmmfbMwkw', 'CF1')], dtype=object)"
      ]
     },
     "metadata": {},
     "execution_count": 8
    }
   ],
   "source": [
    "env.action_space_names"
   ]
  },
  {
   "cell_type": "code",
   "execution_count": 9,
   "metadata": {},
   "outputs": [
    {
     "output_type": "execute_result",
     "data": {
      "text/plain": [
       "[array([('_SFJyC-cdEeet0YmmfbMwkw', 'CF3'),\n",
       "        ('_SFHWA-cdEeet0YmmfbMwkw', 'CF2'),\n",
       "        ('_SE-z0OcdEeet0YmmfbMwkw', 'CF3'),\n",
       "        ('_SFOFSucdEeet0YmmfbMwkw', 'CF3'),\n",
       "        ('_SE-zOOcdEeet0YmmfbMwkw', 'CF1')], dtype=object),\n",
       " array([('_SFJyC-cdEeet0YmmfbMwkw', 'CF3'),\n",
       "        ('_SFHWA-cdEeet0YmmfbMwkw', 'CF2'),\n",
       "        ('_SE-z0OcdEeet0YmmfbMwkw', 'CF3'),\n",
       "        ('_SFOFSucdEeet0YmmfbMwkw', 'CF3')], dtype=object),\n",
       " array([('_SFJyC-cdEeet0YmmfbMwkw', 'CF3'),\n",
       "        ('_SFHWA-cdEeet0YmmfbMwkw', 'CF2'),\n",
       "        ('_SE-z0OcdEeet0YmmfbMwkw', 'CF3'),\n",
       "        ('_SE-zOOcdEeet0YmmfbMwkw', 'CF1')], dtype=object),\n",
       " array([('_SFJyC-cdEeet0YmmfbMwkw', 'CF3'),\n",
       "        ('_SFHWA-cdEeet0YmmfbMwkw', 'CF2'),\n",
       "        ('_SE-z0OcdEeet0YmmfbMwkw', 'CF3')], dtype=object),\n",
       " array([('_SFJyC-cdEeet0YmmfbMwkw', 'CF3'),\n",
       "        ('_SFHWA-cdEeet0YmmfbMwkw', 'CF2'),\n",
       "        ('_SFOFSucdEeet0YmmfbMwkw', 'CF3'),\n",
       "        ('_SE-zOOcdEeet0YmmfbMwkw', 'CF1')], dtype=object),\n",
       " array([('_SFJyC-cdEeet0YmmfbMwkw', 'CF3'),\n",
       "        ('_SFHWA-cdEeet0YmmfbMwkw', 'CF2'),\n",
       "        ('_SFOFSucdEeet0YmmfbMwkw', 'CF3')], dtype=object),\n",
       " array([('_SFJyC-cdEeet0YmmfbMwkw', 'CF3'),\n",
       "        ('_SFHWA-cdEeet0YmmfbMwkw', 'CF2'),\n",
       "        ('_SE-zOOcdEeet0YmmfbMwkw', 'CF1')], dtype=object),\n",
       " array([('_SFJyC-cdEeet0YmmfbMwkw', 'CF3'),\n",
       "        ('_SFHWA-cdEeet0YmmfbMwkw', 'CF2')], dtype=object),\n",
       " array([('_SFJyC-cdEeet0YmmfbMwkw', 'CF3'),\n",
       "        ('_SE-z0OcdEeet0YmmfbMwkw', 'CF3'),\n",
       "        ('_SFOFSucdEeet0YmmfbMwkw', 'CF3'),\n",
       "        ('_SE-zOOcdEeet0YmmfbMwkw', 'CF1')], dtype=object),\n",
       " array([('_SFJyC-cdEeet0YmmfbMwkw', 'CF3'),\n",
       "        ('_SE-z0OcdEeet0YmmfbMwkw', 'CF3'),\n",
       "        ('_SFOFSucdEeet0YmmfbMwkw', 'CF3')], dtype=object),\n",
       " array([('_SFJyC-cdEeet0YmmfbMwkw', 'CF3'),\n",
       "        ('_SE-z0OcdEeet0YmmfbMwkw', 'CF3'),\n",
       "        ('_SE-zOOcdEeet0YmmfbMwkw', 'CF1')], dtype=object),\n",
       " array([('_SFJyC-cdEeet0YmmfbMwkw', 'CF3'),\n",
       "        ('_SE-z0OcdEeet0YmmfbMwkw', 'CF3')], dtype=object),\n",
       " array([('_SFJyC-cdEeet0YmmfbMwkw', 'CF3'),\n",
       "        ('_SFOFSucdEeet0YmmfbMwkw', 'CF3'),\n",
       "        ('_SE-zOOcdEeet0YmmfbMwkw', 'CF1')], dtype=object),\n",
       " array([('_SFJyC-cdEeet0YmmfbMwkw', 'CF3'),\n",
       "        ('_SFOFSucdEeet0YmmfbMwkw', 'CF3')], dtype=object),\n",
       " array([('_SFJyC-cdEeet0YmmfbMwkw', 'CF3'),\n",
       "        ('_SE-zOOcdEeet0YmmfbMwkw', 'CF1')], dtype=object),\n",
       " array([('_SFJyC-cdEeet0YmmfbMwkw', 'CF3')], dtype=object),\n",
       " array([('_SFHWA-cdEeet0YmmfbMwkw', 'CF2'),\n",
       "        ('_SE-z0OcdEeet0YmmfbMwkw', 'CF3'),\n",
       "        ('_SFOFSucdEeet0YmmfbMwkw', 'CF3'),\n",
       "        ('_SE-zOOcdEeet0YmmfbMwkw', 'CF1')], dtype=object),\n",
       " array([('_SFHWA-cdEeet0YmmfbMwkw', 'CF2'),\n",
       "        ('_SE-z0OcdEeet0YmmfbMwkw', 'CF3'),\n",
       "        ('_SFOFSucdEeet0YmmfbMwkw', 'CF3')], dtype=object),\n",
       " array([('_SFHWA-cdEeet0YmmfbMwkw', 'CF2'),\n",
       "        ('_SE-z0OcdEeet0YmmfbMwkw', 'CF3'),\n",
       "        ('_SE-zOOcdEeet0YmmfbMwkw', 'CF1')], dtype=object),\n",
       " array([('_SFHWA-cdEeet0YmmfbMwkw', 'CF2'),\n",
       "        ('_SE-z0OcdEeet0YmmfbMwkw', 'CF3')], dtype=object),\n",
       " array([('_SFHWA-cdEeet0YmmfbMwkw', 'CF2'),\n",
       "        ('_SFOFSucdEeet0YmmfbMwkw', 'CF3'),\n",
       "        ('_SE-zOOcdEeet0YmmfbMwkw', 'CF1')], dtype=object),\n",
       " array([('_SFHWA-cdEeet0YmmfbMwkw', 'CF2'),\n",
       "        ('_SFOFSucdEeet0YmmfbMwkw', 'CF3')], dtype=object),\n",
       " array([('_SFHWA-cdEeet0YmmfbMwkw', 'CF2'),\n",
       "        ('_SE-zOOcdEeet0YmmfbMwkw', 'CF1')], dtype=object),\n",
       " array([('_SFHWA-cdEeet0YmmfbMwkw', 'CF2')], dtype=object),\n",
       " array([('_SE-z0OcdEeet0YmmfbMwkw', 'CF3'),\n",
       "        ('_SFOFSucdEeet0YmmfbMwkw', 'CF3'),\n",
       "        ('_SE-zOOcdEeet0YmmfbMwkw', 'CF1')], dtype=object),\n",
       " array([('_SE-z0OcdEeet0YmmfbMwkw', 'CF3'),\n",
       "        ('_SFOFSucdEeet0YmmfbMwkw', 'CF3')], dtype=object),\n",
       " array([('_SE-z0OcdEeet0YmmfbMwkw', 'CF3'),\n",
       "        ('_SE-zOOcdEeet0YmmfbMwkw', 'CF1')], dtype=object),\n",
       " array([('_SE-z0OcdEeet0YmmfbMwkw', 'CF3')], dtype=object),\n",
       " array([('_SFOFSucdEeet0YmmfbMwkw', 'CF3'),\n",
       "        ('_SE-zOOcdEeet0YmmfbMwkw', 'CF1')], dtype=object),\n",
       " array([('_SFOFSucdEeet0YmmfbMwkw', 'CF3')], dtype=object),\n",
       " array([('_SE-zOOcdEeet0YmmfbMwkw', 'CF1')], dtype=object),\n",
       " array([], dtype=object)]"
      ]
     },
     "metadata": {},
     "execution_count": 9
    }
   ],
   "source": [
    "env.observation_space_names"
   ]
  },
  {
   "cell_type": "markdown",
   "metadata": {},
   "source": [
    "### Examples"
   ]
  },
  {
   "cell_type": "markdown",
   "metadata": {},
   "source": [
    "#### Example 1"
   ]
  },
  {
   "cell_type": "code",
   "execution_count": 16,
   "metadata": {
    "tags": []
   },
   "outputs": [
    {
     "output_type": "stream",
     "name": "stdout",
     "text": [
      "Steps:  0\nAction:  None\nSuccessful:  None\nState:  [('_SE6h_ecdEeet0YmmfbMwkw', 'CF1'), ('_SEwwp-cdEeet0YmmfbMwkw', 'CF2'), ('_SFM1rOcdEeet0YmmfbMwkw', 'CF2'), ('_SE8W-ecdEeet0YmmfbMwkw', 'CF1'), ('_SFS9IOcdEeet0YmmfbMwkw', 'CF3')] \n\n\n[1. 1. 1. 1. 1.] 0.0 False\nSteps:  1\nAction:  ('_SEwwp-cdEeet0YmmfbMwkw', 'CF2')\nSuccessful:  False\nState:  [('_SE6h_ecdEeet0YmmfbMwkw', 'CF1'), ('_SEwwp-cdEeet0YmmfbMwkw', 'CF2'), ('_SFM1rOcdEeet0YmmfbMwkw', 'CF2'), ('_SE8W-ecdEeet0YmmfbMwkw', 'CF1'), ('_SFS9IOcdEeet0YmmfbMwkw', 'CF3')] \n\n\n[1. 1. 1. 0. 1.] 17.15175 False\nSteps:  2\nAction:  ('_SE8W-ecdEeet0YmmfbMwkw', 'CF1')\nSuccessful:  True\nState:  [('_SE6h_ecdEeet0YmmfbMwkw', 'CF1'), ('_SEwwp-cdEeet0YmmfbMwkw', 'CF2'), ('_SFM1rOcdEeet0YmmfbMwkw', 'CF2'), ('_SFS9IOcdEeet0YmmfbMwkw', 'CF3')] \n\n\n[1. 1. 1. 0. 1.] 0.0 False\nSteps:  3\nAction:  ('_SEwwp-cdEeet0YmmfbMwkw', 'CF2')\nSuccessful:  False\nState:  [('_SE6h_ecdEeet0YmmfbMwkw', 'CF1'), ('_SEwwp-cdEeet0YmmfbMwkw', 'CF2'), ('_SFM1rOcdEeet0YmmfbMwkw', 'CF2'), ('_SFS9IOcdEeet0YmmfbMwkw', 'CF3')] \n\n\n"
     ]
    }
   ],
   "source": [
    "env.reset(reward_modus='raw') # possible reward_modus 'raw', 'sqt', 'log10', 'cubic'\n",
    "env.render()\n",
    "\n",
    "action = env.action_space.sample()\n",
    "state, reward, done, _ = env.step(action)\n",
    "print(state, reward, done)\n",
    "env.render()\n",
    "\n",
    "action = env.action_space.sample()\n",
    "state, reward, done, _ = env.step(action)\n",
    "print(state, reward, done)\n",
    "env.render()\n",
    "\n",
    "action = env.action_space.sample()\n",
    "state, reward, done, _ = env.step(action)\n",
    "print(state, reward, done)\n",
    "env.render()"
   ]
  },
  {
   "cell_type": "markdown",
   "metadata": {},
   "source": [
    "#### Example 2"
   ]
  },
  {
   "cell_type": "code",
   "execution_count": 17,
   "metadata": {},
   "outputs": [
    {
     "output_type": "stream",
     "name": "stdout",
     "text": [
      "Steps:  8\n",
      "Action:  ('_SFM1rOcdEeet0YmmfbMwkw', 'CF2')\n",
      "Successful:  True\n",
      "State:  [] \n",
      "\n",
      "\n",
      "Reward:  29.066457874479482\n",
      "FINISHED!\n",
      "Acc Reward:  94.20384521549448\n"
     ]
    }
   ],
   "source": [
    "env.reset('raw') # possible reward_modus 'raw', 'sqt', 'log10', 'cube'\n",
    "accumulated_reward = 0\n",
    "episode_done = False\n",
    "\n",
    "while(not episode_done):\n",
    "    action = env.action_space.sample()\n",
    "    state, reward, done, _ = env.step(action)\n",
    "    accumulated_reward += reward\n",
    "    \n",
    "    clear_output(wait=True)\n",
    "    env.render()\n",
    "    print('Reward: ', reward)\n",
    "    time.sleep(1)\n",
    "    \n",
    "    \n",
    "    if(done):\n",
    "        print('FINISHED!')\n",
    "        print('Acc Reward: ', accumulated_reward)\n",
    "    episode_done = done"
   ]
  },
  {
   "cell_type": "code",
   "execution_count": null,
   "metadata": {},
   "outputs": [],
   "source": []
  }
 ],
 "metadata": {
  "kernelspec": {
   "name": "python3",
   "display_name": "Python 3.9.0 64-bit",
   "metadata": {
    "interpreter": {
     "hash": "ac59ebe37160ed0dfa835113d9b8498d9f09ceb179beaac4002f036b9467c963"
    }
   }
  },
  "language_info": {
   "codemirror_mode": {
    "name": "ipython",
    "version": 3
   },
   "file_extension": ".py",
   "mimetype": "text/x-python",
   "name": "python",
   "nbconvert_exporter": "python",
   "pygments_lexer": "ipython3",
   "version": "3.9.0-final"
  },
  "pycharm": {
   "stem_cell": {
    "cell_type": "raw",
    "metadata": {
     "collapsed": false
    },
    "source": []
   }
  }
 },
 "nbformat": 4,
 "nbformat_minor": 4
}